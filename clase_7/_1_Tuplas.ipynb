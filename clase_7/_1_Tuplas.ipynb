{
  "nbformat": 4,
  "nbformat_minor": 0,
  "metadata": {
    "kernelspec": {
      "display_name": "Python 3",
      "language": "python",
      "name": "python3"
    },
    "language_info": {
      "codemirror_mode": {
        "name": "ipython",
        "version": 3
      },
      "file_extension": ".py",
      "mimetype": "text/x-python",
      "name": "python",
      "nbconvert_exporter": "python",
      "pygments_lexer": "ipython3",
      "version": "3.6.8"
    },
    "colab": {
      "provenance": [],
      "toc_visible": true
    }
  },
  "cells": [
    {
      "cell_type": "markdown",
      "metadata": {
        "id": "VZtePyxE0Bcw"
      },
      "source": [
        "<h1>Tuplas en Python</h1>"
      ]
    },
    {
      "cell_type": "markdown",
      "source": [
        "Una tupla es un conjunto de elementos separados por comas y encerrados entre paréntesis.\n",
        "<BR>\n",
        "Algunas de sus características son:\n",
        "* Los paréntesis no son obligatorios.\n",
        "* Son inmutables: intentar modificarlas provoca un error: TypeError\n",
        "* En general contienen una secuencia heterogénea de elementos.\n",
        "* Los elementos pueden ser mutables.\n",
        "* Para crearlas se utilizan paréntesis (opcionales) y la coma “,”\n"
      ],
      "metadata": {
        "id": "9zASUwGJIO3x"
      }
    },
    {
      "cell_type": "markdown",
      "source": [
        "## Declaración de Tuplas"
      ],
      "metadata": {
        "id": "kPVb5ZyrMeC3"
      }
    },
    {
      "cell_type": "code",
      "source": [
        "tupla = ()\n",
        "print(tupla)"
      ],
      "metadata": {
        "id": "SlDBsD1UIrII"
      },
      "execution_count": null,
      "outputs": []
    },
    {
      "cell_type": "code",
      "source": [
        "colores = ('Rojo', 'Azul', 'Verde')\n",
        "print(colores)"
      ],
      "metadata": {
        "id": "4SBRlsbxIugO"
      },
      "execution_count": null,
      "outputs": []
    },
    {
      "cell_type": "code",
      "source": [
        "dias = \"Lunes\",\n",
        "print(dias)"
      ],
      "metadata": {
        "id": "NfpUiJOVIwWW"
      },
      "execution_count": null,
      "outputs": []
    },
    {
      "cell_type": "code",
      "source": [
        "personas = 'Juan', 'Pablo', 'Luisa'\n",
        "print(personas)"
      ],
      "metadata": {
        "id": "q7DpD34xIwT_"
      },
      "execution_count": null,
      "outputs": []
    },
    {
      "cell_type": "code",
      "source": [
        "mixta = (1, 'Producto 1', True, [256, 987])\n",
        "print(mixta)"
      ],
      "metadata": {
        "id": "THhxjlEvIg4k"
      },
      "execution_count": null,
      "outputs": []
    },
    {
      "cell_type": "markdown",
      "source": [
        "## Declaración de tuplas con un elemento"
      ],
      "metadata": {
        "id": "NQXoD2_8Mj6O"
      }
    },
    {
      "cell_type": "markdown",
      "source": [
        "Para que Python reconozca una tupla de un solo elemento, es necesario colocar una coma después del valor, incluso si está dentro de paréntesis.\n",
        "<BR>\n",
        "Sin esta coma, Python no lo interpretará como una tupla, sino como el tipo de dato del valor en sí.\n",
        "La coma es el indicador clave para que Python identifique una tupla de un solo elemento.\n"
      ],
      "metadata": {
        "id": "u8lydW07M7zj"
      }
    },
    {
      "cell_type": "code",
      "source": [
        "var1 = \"Lunes\"\n",
        "print(type(var1)) # <class 'str'>\n",
        "var2 = \"Lunes\",\n",
        "print(type(var2)) # <class 'tuple'>\n",
        "var3 = (\"Lunes\")\n",
        "print(type(var3)) # <class 'str'>\n",
        "var4 = (\"Lunes\",)\n",
        "print(type(var4)) # <class 'tuple'>"
      ],
      "metadata": {
        "id": "sM4sjMSbMnhV"
      },
      "execution_count": null,
      "outputs": []
    },
    {
      "cell_type": "code",
      "source": [
        "var5 = 10\n",
        "print(type(var5)) # <class 'int'>\n",
        "var6 = 10,\n",
        "print(type(var6)) # <class 'tuple'>\n",
        "var7 = 10\n",
        "print(type(var7)) # <class 'int'>\n",
        "var8 = 10,\n",
        "print(type(var8)) # <class 'tuple'>"
      ],
      "metadata": {
        "id": "MKfuNWCSMz-c"
      },
      "execution_count": null,
      "outputs": []
    },
    {
      "cell_type": "markdown",
      "source": [
        "Las tuplas son inmutables, no podemos modificarla una vez creadas. Sin embargo, es posible modificar sus elementos mutables, veamos"
      ],
      "metadata": {
        "id": "NoJYSRRqJS2y"
      }
    },
    {
      "cell_type": "code",
      "source": [
        "# No podemos modificar el elemento con index = 3\n",
        "mixta[3]= 10"
      ],
      "metadata": {
        "id": "_BT5nfgfJA00"
      },
      "execution_count": null,
      "outputs": []
    },
    {
      "cell_type": "code",
      "source": [
        "# Pero si podemos modificar la lista en la posición 3\n",
        "mixta[3][0]=10\n",
        "print(mixta[3][0])"
      ],
      "metadata": {
        "id": "JgjEAxz4JfRH"
      },
      "execution_count": null,
      "outputs": []
    },
    {
      "cell_type": "markdown",
      "source": [
        "# Operadores con tuplas"
      ],
      "metadata": {
        "id": "RuzndEeDNJLv"
      }
    },
    {
      "cell_type": "markdown",
      "source": [
        "Operador * utilizado para replicar tuplas"
      ],
      "metadata": {
        "id": "6g_7nbExNLrW"
      }
    },
    {
      "cell_type": "code",
      "source": [
        "binario = (0, 1) * 3\n",
        "print(binario) # (0, 1, 0, 1, 0, 1)"
      ],
      "metadata": {
        "id": "zUsazqWGNTwD"
      },
      "execution_count": null,
      "outputs": []
    },
    {
      "cell_type": "markdown",
      "source": [
        "Operado + utilizado para concatenar tuplas"
      ],
      "metadata": {
        "id": "cNSgjWyLNTML"
      }
    },
    {
      "cell_type": "code",
      "source": [
        "fecha = ()\n",
        "fecha = fecha + (25,)\n",
        "fecha += (\"Enero\",)\n",
        "fecha += (2009,)\n",
        "print(fecha) # (25, 'Enero', 2009)\n",
        "print(fecha[0]) # 25\n",
        "print(fecha[1]) # Enero\n",
        "print(fecha[2]) # 2009"
      ],
      "metadata": {
        "id": "tP3wFfaWNgy6"
      },
      "execution_count": null,
      "outputs": []
    },
    {
      "cell_type": "markdown",
      "source": [
        "Operadores in / not se utilizan para verificar si un valor esta o no presente en una tupla"
      ],
      "metadata": {
        "id": "aH1YaVCgNtMS"
      }
    },
    {
      "cell_type": "code",
      "source": [
        "tupla = (1, 2, 3, 4, 5)\n",
        "print(3 in tupla) # True\n",
        "print(6 in tupla) # False\n",
        "print(10 not in tupla) # True"
      ],
      "metadata": {
        "id": "CVdMiW0uN0mr"
      },
      "execution_count": null,
      "outputs": []
    },
    {
      "cell_type": "markdown",
      "source": [
        "# Tuplas mixtas y tupla de tuplas"
      ],
      "metadata": {
        "id": "5Tiv-4ypN8b6"
      }
    },
    {
      "cell_type": "markdown",
      "source": [
        "En una tupla se pueden combinar distintos tipos de datos"
      ],
      "metadata": {
        "id": "6x717YHfPIgN"
      }
    },
    {
      "cell_type": "code",
      "source": [
        "primavera = (21, \"Septiembre\")\n",
        "invierno = (21, \"Junio\")\n",
        "print(primavera, invierno) # (21, 'Septiembre') (21, 'Junio')"
      ],
      "metadata": {
        "id": "iAy2JK9pPL6x"
      },
      "execution_count": null,
      "outputs": []
    },
    {
      "cell_type": "markdown",
      "source": [
        "Cada elemento puede contener una tupla:\n"
      ],
      "metadata": {
        "id": "fKXCliycPOxf"
      }
    },
    {
      "cell_type": "code",
      "source": [
        "estaciones = (primavera, invierno)\n",
        "print(estaciones) # ((21, 'Septiembre'), (21, 'Junio'))"
      ],
      "metadata": {
        "id": "x6kaOV48PQts"
      },
      "execution_count": null,
      "outputs": []
    },
    {
      "cell_type": "markdown",
      "source": [
        "# Iteración de tuplas"
      ],
      "metadata": {
        "id": "220bukYqPlH_"
      }
    },
    {
      "cell_type": "code",
      "source": [
        "semana = (\"Lunes\", \"Martes\", \"Miércoles\", \"Jueves\", \"Viernes\")"
      ],
      "metadata": {
        "id": "kJhlALGCPpdh"
      },
      "execution_count": null,
      "outputs": []
    },
    {
      "cell_type": "code",
      "source": [
        "for dia in semana:\n",
        "  print(dia)"
      ],
      "metadata": {
        "id": "8JEmMqo2Pq7t"
      },
      "execution_count": null,
      "outputs": []
    },
    {
      "cell_type": "code",
      "source": [
        "for indice, dia in enumerate(semana):\n",
        "  print(indice, dia)"
      ],
      "metadata": {
        "id": "dWxkvnYPPu2v"
      },
      "execution_count": null,
      "outputs": []
    },
    {
      "cell_type": "code",
      "source": [
        "semana_lower = tuple(dia.lower() for dia in semana)\n",
        "print(type(semana_lower))\n",
        "print(semana_lower)"
      ],
      "metadata": {
        "id": "psqxpnajQHPD"
      },
      "execution_count": null,
      "outputs": []
    },
    {
      "cell_type": "markdown",
      "source": [
        "# Slicing o Rebanadas con Tuplas"
      ],
      "metadata": {
        "id": "bnTHG_8mQkVM"
      }
    },
    {
      "cell_type": "markdown",
      "source": [
        "Se pueden utilizar rebanadas:\n",
        "\n",
        "\n"
      ],
      "metadata": {
        "id": "u7JnmqQMQrPW"
      }
    },
    {
      "cell_type": "code",
      "source": [
        "semana = (\"Lunes\", \"Martes\", \"Miércoles\", \"Jueves\", \"Viernes\")\n",
        "print(semana[1:3]) # ('Martes', 'Miércoles')"
      ],
      "metadata": {
        "id": "evwBPziCQsKi"
      },
      "execution_count": null,
      "outputs": []
    },
    {
      "cell_type": "code",
      "source": [
        "# Tupla con números\n",
        "numeros = (10, 20, 30, 40, 50, 60)\n",
        "print(numeros[:4])   # (10, 20, 30, 40) -> desde el inicio hasta el índice 3"
      ],
      "metadata": {
        "id": "Y4HrEQ8QRciA"
      },
      "execution_count": null,
      "outputs": []
    },
    {
      "cell_type": "code",
      "source": [
        "# Tupla con letras\n",
        "letras = (\"a\", \"b\", \"c\", \"d\", \"e\", \"f\")\n",
        "print(letras[2:])    # ('c', 'd', 'e', 'f') -> desde el índice 2 hasta el final"
      ],
      "metadata": {
        "id": "QeeHUcEZRexH"
      },
      "execution_count": null,
      "outputs": []
    },
    {
      "cell_type": "markdown",
      "source": [
        "# Empaquetar y desempaquetar en Tuplas"
      ],
      "metadata": {
        "id": "nkVH8XieQrHn"
      }
    },
    {
      "cell_type": "code",
      "source": [
        "# Ejemplo de empaquetado\n",
        "dia = 11\n",
        "mes = 9\n",
        "anio = 2024\n",
        "fecha = (dia, mes, anio)\n",
        "print(fecha) # (11, 9, 2024)"
      ],
      "metadata": {
        "id": "Xh4Rvf3DRo9f"
      },
      "execution_count": null,
      "outputs": []
    },
    {
      "cell_type": "code",
      "source": [
        "# Ejemplo de desempaquetado\n",
        "fecha = (28, 'Septiembre', 2024)\n",
        "dia, mes, anio = fecha\n",
        "print(dia) # 28\n",
        "print(mes) # Septiembre\n",
        "print(anio) # 2024"
      ],
      "metadata": {
        "id": "-YqENQNYRszt"
      },
      "execution_count": null,
      "outputs": []
    },
    {
      "cell_type": "markdown",
      "source": [
        "# Funciones y métodos en Tuplas"
      ],
      "metadata": {
        "id": "dvRDgHloSCXg"
      }
    },
    {
      "cell_type": "code",
      "source": [
        "numeros = (13, 25, 9, 20, 56, 4)"
      ],
      "metadata": {
        "id": "hSVFyKfNSHvt"
      },
      "execution_count": null,
      "outputs": []
    },
    {
      "cell_type": "markdown",
      "source": [
        "## len()\n",
        "Devuelve la cantidad de elementos"
      ],
      "metadata": {
        "id": "H5PZG94rSLLN"
      }
    },
    {
      "cell_type": "code",
      "source": [
        "print(len(numeros)) # 6"
      ],
      "metadata": {
        "id": "Ge2UMOFOSQOD"
      },
      "execution_count": null,
      "outputs": []
    },
    {
      "cell_type": "markdown",
      "source": [
        "## max(), min(), sum()\n"
      ],
      "metadata": {
        "id": "7LKBzeP-SZyt"
      }
    },
    {
      "cell_type": "code",
      "source": [
        "print(max(numeros)) # 56\n",
        "print(min(numeros)) # 4\n",
        "print(sum(numeros)) # 127"
      ],
      "metadata": {
        "id": "CYGGCvjBSgrs"
      },
      "execution_count": null,
      "outputs": []
    },
    {
      "cell_type": "code",
      "source": [
        "\n"
      ],
      "metadata": {
        "id": "0eHIEkavR9U_"
      },
      "execution_count": null,
      "outputs": []
    },
    {
      "cell_type": "markdown",
      "source": [
        "## tupla.index(valor)\n",
        "Devuelve el índice de la primera aparición de valor en la tupla\n"
      ],
      "metadata": {
        "id": "C9OPFiJ-Sodo"
      }
    },
    {
      "cell_type": "code",
      "source": [
        "tupla = (1, 2, 3, 1, 1, 4, 5, 1)\n",
        "print(tupla.index(3)) # 2\n",
        "#print(tupla.index(6)) # ValueError: tuple.index(x): x not in tuple"
      ],
      "metadata": {
        "id": "dwMHq_hCSw8c"
      },
      "execution_count": null,
      "outputs": []
    },
    {
      "cell_type": "markdown",
      "source": [
        "## tupla.count()\n",
        "Devuelve el número de veces que valor aparece en la tupla"
      ],
      "metadata": {
        "id": "M2-AdJuOSy1K"
      }
    },
    {
      "cell_type": "code",
      "source": [
        "print(tupla.count(1)) # 4\n",
        "print(tupla.count(6)) # 0"
      ],
      "metadata": {
        "id": "WLds_6P_S53C"
      },
      "execution_count": null,
      "outputs": []
    },
    {
      "cell_type": "markdown",
      "source": [
        "# Copiar tuplas\n",
        "En Python las tuplas son inmutables, y eso implica que no existe un método “copy()” como en las listas o diccionarios. Pero sí hay formas de copiar o clonar una tupla:"
      ],
      "metadata": {
        "id": "ktVi8E5GTlLz"
      }
    },
    {
      "cell_type": "code",
      "source": [
        "# Aquí la asignación es a modo de referencia a la posición de memoria\n",
        "tupla1 = (1,2,3)\n",
        "tupla2 = tupla1\n",
        "print(id(tupla1))\n",
        "print(id(tupla2))"
      ],
      "metadata": {
        "colab": {
          "base_uri": "https://localhost:8080/"
        },
        "id": "NMwTGMb2TrUQ",
        "outputId": "83b87e25-adb3-49dd-df52-a0c1a6a70af3"
      },
      "execution_count": null,
      "outputs": [
        {
          "output_type": "stream",
          "name": "stdout",
          "text": [
            "136271065951168\n",
            "136271065951168\n"
          ]
        }
      ]
    },
    {
      "cell_type": "code",
      "source": [
        "tupla1 = (1,2,3)\n",
        "tupla2 = tupla1[:]\n",
        "tupla3 = tupla1[0:-1]\n",
        "print(tupla1, id(tupla1))\n",
        "print(tupla2, id(tupla2))\n",
        "print(tupla3, id(tupla3))"
      ],
      "metadata": {
        "colab": {
          "base_uri": "https://localhost:8080/"
        },
        "id": "5SYLrgeBUAf0",
        "outputId": "a3054391-708f-4431-99af-3460f0167ce9"
      },
      "execution_count": null,
      "outputs": [
        {
          "output_type": "stream",
          "name": "stdout",
          "text": [
            "(1, 2, 3) 136270117754880\n",
            "(1, 2, 3) 136270117754880\n",
            "(1, 2) 136270122074688\n"
          ]
        }
      ]
    }
  ]
}
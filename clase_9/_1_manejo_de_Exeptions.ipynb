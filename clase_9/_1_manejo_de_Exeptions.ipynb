{
  "cells": [
    {
      "cell_type": "markdown",
      "metadata": {
        "id": "vooGuozmbtAL"
      },
      "source": [
        "# Sentencias de control de flujo"
      ]
    },
    {
      "cell_type": "markdown",
      "metadata": {
        "id": "kaD_AA4ibvKN"
      },
      "source": [
        "Las instrucciones `continue` y `break` rompen la ejecución de un ciclo while/for:\n",
        "<BR>\n",
        "* `continue`: su uso en un bucle permite saltar inmediatamente al inicio del siguiente ciclo, omitiendo cualquier código restante después de esta declaración dentro del bucle. Puede aplicarse múltiples veces según sea necesario dentro de un ciclo para controlar el flujo de ejecución.\n",
        "* `break`: su uso en un bucle permite salir del ciclo en el momento que se cumpla una condición específica , interrumpiendo la ejecución del ciclo actual sin esperar a que finalicen todas las iteraciones previstas. Su uso no siempre es considerado una buena práctica, ya que puede dificultar la legibilidad y el mantenimiento del código. Al romper abruptamente el flujo natural de un ciclo, puede generar confusión, especialmente en bucles complejos.\n"
      ]
    },
    {
      "cell_type": "markdown",
      "metadata": {
        "id": "lbT9JWxsegvT"
      },
      "source": [
        "## Ejemplo de continue\n",
        "Desarrollar una función para sumar los dígitos pares."
      ]
    },
    {
      "cell_type": "code",
      "execution_count": null,
      "metadata": {
        "id": "AczKZO8jcQYe"
      },
      "outputs": [],
      "source": [
        "def sumaDigitosPares(nro):\n",
        "  '''Suma los dígitos pares de un número. \n",
        "    Utiliza continue cuando el digito es impar'''\n",
        "  suma = 0\n",
        "  while nro > 0:\n",
        "    digito = nro % 10\n",
        "    nro = nro // 10\n",
        "    if digito % 2 != 0:\n",
        "      continue # al cumplirse la condición salta a la siguiente iteración\n",
        "    suma = suma + digito\n",
        "  return suma"
      ]
    },
    {
      "cell_type": "code",
      "execution_count": null,
      "metadata": {
        "id": "_Pv6O-22ckB7"
      },
      "outputs": [],
      "source": [
        "n = int(input(\"Ingrese un número: \"))\n",
        "print(\"La suma de sus dígitos pares es:\", sumaDigitosPares(n))"
      ]
    },
    {
      "cell_type": "markdown",
      "metadata": {
        "id": "UR4sKfVderA8"
      },
      "source": [
        "## Ejemplo de break\n",
        "Desarrollar una función para sumar los últimos 5 dígitos. El número puede tener menos de 5 dígitos.\n"
      ]
    },
    {
      "cell_type": "code",
      "execution_count": null,
      "metadata": {
        "id": "QEgp1WKyZ9zK"
      },
      "outputs": [],
      "source": [
        "def sumaUltimosDigitos(nro):\n",
        "  '''Suma los últimos 5 dígitos de un número.\n",
        "    Utiliza break cuando alcanza los 5 dígitos.'''\n",
        "  suma = 0\n",
        "  cantd = 0\n",
        "  while nro > 0:\n",
        "    digito = nro % 10\n",
        "    nro = nro // 10\n",
        "    suma = suma + digito\n",
        "    cantd += 1\n",
        "    if cantd == 5:\n",
        "      break\n",
        "  return suma"
      ]
    },
    {
      "cell_type": "code",
      "execution_count": null,
      "metadata": {
        "id": "jbai7I37fEie"
      },
      "outputs": [],
      "source": [
        "n = int(input(\"Ingrese un número: \"))\n",
        "print(\"La suma de sus últimos 5 dígitos es:\", sumaUltimosDigitos(n))"
      ]
    },
    {
      "cell_type": "markdown",
      "metadata": {
        "id": "_WhrUNeXb0vg"
      },
      "source": [
        "## Clásula else\n",
        "En Python, el else en un while sirve para ejecutar un bloque de código solo si el bucle termina de manera “normal”, es decir, sin que se haya ejecutado un break."
      ]
    },
    {
      "cell_type": "code",
      "execution_count": null,
      "metadata": {
        "id": "ULzkGgFef9q0"
      },
      "outputs": [],
      "source": [
        "lista = [3,23,45,18,32,8]\n",
        "nro = int(input(\"Ingrese un número a buscar: \"))\n",
        "i = 0\n",
        "while i < len(lista):\n",
        "  if nro == lista[i]:\n",
        "    print(\"El nro se encontró en la ubicación\", i)\n",
        "    break\n",
        "  i = i + 1\n",
        "else:\n",
        "  print(\"El nro no se encontró\")"
      ]
    },
    {
      "cell_type": "markdown",
      "metadata": {
        "id": "ksHNEDhpg5zG"
      },
      "source": [
        "## Sentencia while true\n",
        "while True: es un bucle infinito a menos que exista una condición para terminarlo dentro del bloque iterativo. Si no existiera la condición de finalización, se ejecutaría en forma infinita.\n"
      ]
    },
    {
      "cell_type": "code",
      "execution_count": null,
      "metadata": {
        "id": "HaK1iaT0f5Xs"
      },
      "outputs": [],
      "source": [
        "# Ejemplo: calcular la sumatoria de los números ingresados.\n",
        "# Ingresar números hasta detectar el valor -1.\n",
        "suma = 0\n",
        "while True:\n",
        "  nro = int(input(\"Ingrese un número: \"))\n",
        "  if nro == -1:\n",
        "    break\n",
        "  suma = suma + nro\n",
        "print(\"La suma es:\", suma)"
      ]
    },
    {
      "cell_type": "markdown",
      "metadata": {
        "id": "DnbctwgThlqb"
      },
      "source": [
        "# Excepciones - tipos de error"
      ]
    },
    {
      "cell_type": "markdown",
      "metadata": {
        "id": "8mGB4d-XhrJL"
      },
      "source": [
        "Los errores en Python se dividen en varias categorías que reflejan diferentes tipos de problemas en el código:\n",
        "<BR>\n",
        "* **Errores de sintaxis:** se producen en tiempo de compilación y ocurren cuando el código no sigue las reglas del lenguaje, impidiendo su ejecución antes de que comience; estos errores se detectan durante el análisis del código. Se identifican con el código `SyntaxError`.\n",
        "\n",
        "* **Errores en tiempo de ejecución:** surgen durante la ejecución del programa debido a condiciones inesperadas, como intentar realizar operaciones no válidas o convertir tipos de datos incorrectamente, y generalmente causan que el programa se detenga abruptamente. De auerdo al tipo de error aparecerá el código asociado.\n",
        "\n",
        "* **Errores semánticos:** se manifiestan cuando el código es sintácticamente correcto y ejecutable, pero no produce los resultados esperados debido a una lógica incorrecta o fallos en la implementación de algoritmos. Estos errores son a menudo más difíciles de identificar porque no causan fallos evidentes durante la ejecución, sino que llevan a resultados incorrectos o no deseados.\n"
      ]
    },
    {
      "cell_type": "markdown",
      "metadata": {
        "id": "wPglWw6giPM6"
      },
      "source": [
        "## Errores de sintáxis\n",
        "Olvidar cerrar un paréntesis, usar una palabra clave incorrecta, o escribir mal una estructura como un bucle for, son errores de sintaxis. Python no podrá interpretar el código y lanzará un error que detiene la ejecución del programa antes de que comience"
      ]
    },
    {
      "cell_type": "code",
      "execution_count": null,
      "metadata": {
        "id": "MkpUHR7ciR8s"
      },
      "outputs": [],
      "source": [
        "print(\"Hola, mundo!\""
      ]
    },
    {
      "cell_type": "markdown",
      "metadata": {
        "id": "zX6U7yrniZA6"
      },
      "source": [
        "## Errores en tiempo de ejecución:\n",
        "Estos errores incluyen problemas como la conversión incorrecta de tipos, división por cero, o acceso a elementos inexistentes en una lista. Los errores de este tipo no se detectan hasta que el programa llega al punto donde ocurre el problema, y el programa se detiene abruptamente al encontrar uno.\n"
      ]
    },
    {
      "cell_type": "code",
      "execution_count": null,
      "metadata": {
        "id": "-n9V9lonh9OM"
      },
      "outputs": [],
      "source": [
        "x = int(\"abc\") # ValueError: invalid literal for int() with base 10: 'abc'"
      ]
    },
    {
      "cell_type": "markdown",
      "metadata": {
        "id": "qeyCvEUtit_x"
      },
      "source": [
        "## Errores semánticos:\n",
        "Estos errores son el resultado de una lógica incorrecta en el programa, como usar fórmulas equivocadas, realizar cálculos erróneos, o implementar algoritmos de manera inadecuada. A menudo, estos errores son difíciles de detectar porque el código puede parecer correcto desde un punto de vista técnico, pero los resultados no son los que se pretendían.\n"
      ]
    },
    {
      "cell_type": "code",
      "execution_count": null,
      "metadata": {
        "id": "3B1U78erizCv"
      },
      "outputs": [],
      "source": [
        "def calcular_area_circulo(radio):\n",
        "  return 3.14 * radio ** 2\n",
        "\n",
        "print(calcular_area_circulo(5))\n"
      ]
    },
    {
      "cell_type": "markdown",
      "metadata": {
        "id": "pgPlIhnajJTF"
      },
      "source": [
        "El cálculo del área de un círculo debería usar el valor de π más preciso (math.pi), pero aquí se usa una aproximación que puede llevar a resultados incorrectos.\n"
      ]
    },
    {
      "cell_type": "code",
      "execution_count": null,
      "metadata": {
        "id": "r9o2VZlBjJ73"
      },
      "outputs": [],
      "source": [
        "import math\n",
        "def calcular_area_circulo(radio):\n",
        "  return math.pi * radio ** 2\n",
        "\n",
        "print(calcular_area_circulo(5))"
      ]
    },
    {
      "cell_type": "markdown",
      "metadata": {
        "id": "4TxlftNHori2"
      },
      "source": [
        "## Errores y excepciones\n",
        "[Documentación Oficial](https://docs.python.org/es/3/tutorial/errors.html)"
      ]
    },
    {
      "cell_type": "markdown",
      "metadata": {
        "id": "bGtha-Zzn0CY"
      },
      "source": [
        "## try ... except\n",
        "`try...except` se usa para manejar errores y/o eventos inesperados(excepciones) de forma controlada y evitar que el programa se detenga abruptamente."
      ]
    },
    {
      "cell_type": "code",
      "execution_count": null,
      "metadata": {
        "id": "2KSihwBxn5O9"
      },
      "outputs": [],
      "source": [
        "try:\n",
        "    # bloque de código que puede generar un error\n",
        "except:\n",
        "    # bloque de código que se ejecuta si hubo un error\n",
        "finally:\n",
        "    # bloque que se ejecuta siempre, independientemente de si hubo o no un error"
      ]
    },
    {
      "cell_type": "code",
      "execution_count": null,
      "metadata": {
        "id": "vUlmPNv2wfx_"
      },
      "outputs": [],
      "source": [
        "# Ejemplo sin try...except\n",
        "numero = int(input(\"Ingresa un número: \"))  # esto va a dar error si el input es no numerico\n",
        "print(\"El número es:\", numero)"
      ]
    },
    {
      "cell_type": "code",
      "execution_count": 47,
      "metadata": {
        "colab": {
          "base_uri": "https://localhost:8080/"
        },
        "id": "rDn3IL9doTC3",
        "outputId": "d9bd1d39-fa03-4533-c8cb-689c9b950169"
      },
      "outputs": [
        {
          "name": "stdout",
          "output_type": "stream",
          "text": [
            "Ingresa un número: 1\n",
            "El número es: 1\n"
          ]
        }
      ],
      "source": [
        "# Ejemplo con try...except\n",
        "try:\n",
        "    numero = int(input(\"Ingresa un número: \"))  # esto va a dar error si el input es no numerico\n",
        "    print(\"El número es:\", numero)\n",
        "except:\n",
        "    print(\"Ocurrió un error al convertir el número\")\n"
      ]
    },
    {
      "cell_type": "code",
      "execution_count": 58,
      "metadata": {
        "colab": {
          "base_uri": "https://localhost:8080/"
        },
        "id": "Md77xxRE1-Jz",
        "outputId": "2b6d14c8-ce33-4479-d4cc-43f32c0e270b"
      },
      "outputs": [
        {
          "name": "stdout",
          "output_type": "stream",
          "text": [
            "Ingresa un número: a\n",
            "ERROR: invalid literal for int() with base 10: 'a'\n"
          ]
        }
      ],
      "source": [
        "# Ejemplo con try...except y error generico\n",
        "try:\n",
        "    numero = int(input(\"Ingresa un número: \"))  # esto va a dar error si el input es no numerico\n",
        "    print(\"El número es:\", numero)\n",
        "except Exception as e:\n",
        "    print(\"ERROR:\", e)"
      ]
    },
    {
      "cell_type": "markdown",
      "metadata": {
        "id": "A3Nkiod0CRL3"
      },
      "source": [
        "## Usamos sys.exc_info() para detalles de la excepcion\n",
        "Retorna una tupla de tres elementos:\n",
        "\n",
        "`exc_type` → el tipo de la excepción (por ejemplo, ZeroDivisionError).\n",
        "\n",
        "`exc_value` → el valor o mensaje de la excepción (por ejemplo, \"division by zero\").\n",
        "\n",
        "`exc_traceback` → un objeto que contiene el traceback (la traza de llamadas donde ocurrió el error)."
      ]
    },
    {
      "cell_type": "code",
      "execution_count": 60,
      "metadata": {
        "colab": {
          "base_uri": "https://localhost:8080/"
        },
        "id": "L5U8wVmJCWSZ",
        "outputId": "2ef33ab4-739d-41ff-89ba-69db4f466fee"
      },
      "outputs": [
        {
          "name": "stdout",
          "output_type": "stream",
          "text": [
            "Ingresa un número: 0\n",
            "Tipo: <class 'ZeroDivisionError'>\n",
            "Valor: division by zero\n",
            "Traza: <traceback object at 0x7abd93429000>\n"
          ]
        }
      ],
      "source": [
        "import sys\n",
        "\n",
        "try:\n",
        "    numero = int(input(\"Ingresa un número: \"))  # esto va a dar error si el input es no numerico\n",
        "    cociente = 10/numero # esto va a dar error si numero es 0\n",
        "    print(\"El resultado es:\", cociente)\n",
        "except:\n",
        "    tipo, valor, traza = sys.exc_info()\n",
        "    print(\"Tipo:\", tipo)\n",
        "    print(\"Valor:\", valor)\n",
        "    print(\"Traza:\", traza)\n"
      ]
    },
    {
      "cell_type": "markdown",
      "metadata": {
        "id": "MuoCV-Kkpl94"
      },
      "source": [
        "## Capturando múltiples excepciones\n",
        "Dado que dentro de un mismo bloque try pueden producirse excepciones de distinto tipo, es posible utilizar varios bloques except, cada uno para capturar un tipo distinto de excepción. Esto se hace especificando a continuación de la sentencia except el nombre de la excepción que se pretende capturar:\n"
      ]
    },
    {
      "cell_type": "code",
      "execution_count": null,
      "metadata": {
        "id": "ciDbSchxp4gl"
      },
      "outputs": [],
      "source": [
        "# Ejemplo con try...except\n",
        "try:\n",
        "    # Pedimos un número al usuario\n",
        "    num = int(input(\"Ingresa un número: \"))\n",
        "    cociente = 10 / num\n",
        "    print(\"El resultado es:\", cociente)\n",
        "\n",
        "except ValueError:\n",
        "    # Ocurre si lo ingresado no puede convertirse a entero\n",
        "    print(\"Error: Debes ingresar un número válido.\")\n",
        "\n",
        "except ZeroDivisionError:\n",
        "    # Ocurre si el usuario ingresa 0\n",
        "    print(\"Error: No se puede dividir por cero.\")\n",
        "\n",
        "except Exception as e:\n",
        "    # Captura cualquier otro error no previsto\n",
        "    print(\"Ocurrió un error inesperado:\", e)\n"
      ]
    },
    {
      "cell_type": "markdown",
      "metadata": {
        "id": "OuednO_sqH0v"
      },
      "source": [
        "## Generando excepciones con raise\n",
        "\n",
        "* Se utiliza para crear o provocar una excepción, generalmente cuando no cumple una regla del negocio.\n",
        "* Si no se detalla el tipo de excepción, se relanza la última excepción producida.\n",
        "* Como desarrollador, se puede elegir lanzar una excepción si se produce una condición.\n",
        "* Para “lanzar” una excepción, debemos usar la palabra clave raise.\n",
        "\n",
        "\n"
      ]
    },
    {
      "cell_type": "code",
      "execution_count": null,
      "metadata": {
        "id": "h0zw1fspqW4u"
      },
      "outputs": [],
      "source": [
        "raise Exception(\"Algo salió mal\")"
      ]
    },
    {
      "cell_type": "code",
      "execution_count": null,
      "metadata": {
        "id": "XmJ8cw3PqbdI"
      },
      "outputs": [],
      "source": [
        "raise ValueError(\"El número debe ser positivo\")"
      ]
    },
    {
      "cell_type": "code",
      "execution_count": null,
      "metadata": {
        "id": "Aq100uYVqdGt"
      },
      "outputs": [],
      "source": [
        "raise TypeError(\"El parámetro debe ser una lista\")"
      ]
    },
    {
      "cell_type": "code",
      "execution_count": null,
      "metadata": {
        "id": "y_P7u2nhtNRt"
      },
      "outputs": [],
      "source": [
        "# Generamos una excepcion generica\n",
        "x = -1\n",
        "if x < 0:\n",
        "  raise Exception(\"No se aceptan números menores a cero.\")\n"
      ]
    },
    {
      "cell_type": "code",
      "execution_count": null,
      "metadata": {
        "id": "uMdUvw7StW1c"
      },
      "outputs": [],
      "source": [
        "# lanzar una excepción específica, del tipo TypeError, si x no es un entero.\n",
        "x = \"Hola mundo!\"\n",
        "if not type(x) is int:\n",
        "  raise TypeError(\"Sólo se permiten valores enteros.\")\n"
      ]
    },
    {
      "cell_type": "code",
      "execution_count": null,
      "metadata": {
        "id": "oi9jq6bytgHM"
      },
      "outputs": [],
      "source": [
        "# Darle al usuario la posibilidad de abortar la ejecución del programa en caso de producirse un error.\n",
        "\n",
        "while True:\n",
        "  try:\n",
        "    num = int(input(\"Ingrese un número: \"))\n",
        "    break\n",
        "  except ValueError:\n",
        "    print(\"Error, se esperaba que ingrese un número entero.\")\n",
        "    resp = input(\"Desea volver a ingresar un número? (s/n): \")\n",
        "    if resp.lower() != \"s\":\n",
        "      raise # finaliza la ejecución, exponiendo el error que ocurrió.\n",
        "    print(\"Vuelva a ingresarlo\")\n"
      ]
    },
    {
      "cell_type": "markdown",
      "metadata": {
        "id": "o58hAps8qOAu"
      },
      "source": [
        "## Uso de assert en testing/desarrollo\n",
        "* La declaración `assert` es una forma de generar una excepción si no ocurre la afirmación esperada.\n",
        "* La excepción `AssertionError` se genera cuando una declaración assert no se cumple.\n",
        "* Usamos assert cuando estamos testeando o depurando el código\n",
        "* Recordá que assert se ignora si Python corre en modo optimizado, por eso es más para desarrollo que para producción.\n"
      ]
    },
    {
      "cell_type": "code",
      "execution_count": 65,
      "metadata": {
        "id": "gKzZkMWfu4uo"
      },
      "outputs": [],
      "source": [
        "def promedio_notas(notas):\n",
        "    # Validar que la lista no esté vacía\n",
        "    assert len(notas) > 0, \"La lista de notas no puede estar vacía\"\n",
        "\n",
        "    # Validar que todas las notas sean números entre 0 y 10\n",
        "    for nota in notas:\n",
        "        assert isinstance(nota, (int, float)), \"Todas las notas deben ser numéricas\"\n",
        "        assert 0 <= nota <= 10, f\"La nota {nota} está fuera del rango permitido (0-10)\"\n",
        "\n",
        "    return sum(notas) / len(notas)"
      ]
    },
    {
      "cell_type": "code",
      "execution_count": null,
      "metadata": {
        "id": "jzpyOLIcAGMk"
      },
      "outputs": [],
      "source": [
        "# Ejemplos de uso\n",
        "# print(promedio_notas([8, 7.5, 9, 10]))\n",
        "# print(promedio_notas([]))\n",
        "# print(promedio_notas([8, \"siete\", 9]))\n",
        "# print(promedio_notas([12, 9, 10]))"
      ]
    },
    {
      "cell_type": "markdown",
      "metadata": {
        "id": "3e_LlMCIDITC"
      },
      "source": [
        "## Validaciones: precondiciones\n",
        "\n",
        "Las precondiciones son condiciones que deben cumplirse antes de la ejecución de una función o un bloque de código para garantizar que el programa se comporte de manera correcta, es decir, aquellos valores que se esperan como entrada para que el código funcione sin errores.\n",
        "\n"
      ]
    },
    {
      "cell_type": "markdown",
      "metadata": {
        "id": "pbJ_6wa-AugP"
      },
      "source": [
        "### Opción 1: Validación con raise"
      ]
    },
    {
      "cell_type": "code",
      "execution_count": 75,
      "metadata": {
        "id": "VigBoygjAwFX"
      },
      "outputs": [],
      "source": [
        "# Declaramos una funcion que calcula el promedio de los elementos de una lista\n",
        "# Los elementos de la lista deben ser del tipo int o float\n",
        "def promedio(lista):\n",
        "    if len(lista) == 0:\n",
        "        raise ValueError(\"La lista no puede estar vacía\")\n",
        "    if not all(isinstance(x, (int, float)) for x in lista):\n",
        "        raise TypeError(\"Todos los elementos deben ser numéricos\")\n",
        "    return sum(lista) / len(lista)\n"
      ]
    },
    {
      "cell_type": "code",
      "execution_count": null,
      "metadata": {
        "id": "osbpseSYDNrh"
      },
      "outputs": [],
      "source": [
        "  print(promedio([10, 20, 30]))\n",
        "  # print(promedio([]))\n",
        "  # print(promedio([10, \"a\", 30]))"
      ]
    },
    {
      "cell_type": "markdown",
      "metadata": {
        "id": "KynNqGHvAx92"
      },
      "source": [
        "### Opción 2: Con assert (para pruebas y debugging)"
      ]
    },
    {
      "cell_type": "code",
      "execution_count": 77,
      "metadata": {
        "id": "o3QgCKDgAzz2"
      },
      "outputs": [],
      "source": [
        "# Declaramos una funcion que calcula el promedio de los elementos de una lista\n",
        "# Los elementos de la lista deben ser del tipo int o float\n",
        "def promedio(lista):\n",
        "    assert len(lista) > 0, \"La lista no puede estar vacía\"\n",
        "    assert all(isinstance(x, (int, float)) for x in lista), \"Debe contener solo números\"\n",
        "    return sum(lista) / len(lista)\n"
      ]
    },
    {
      "cell_type": "code",
      "execution_count": null,
      "metadata": {
        "id": "9BFD5S42DPlR"
      },
      "outputs": [],
      "source": [
        "  print(promedio([10, 20, 30]))\n",
        "  # print(promedio([]))\n",
        "  # print(promedio([10, \"a\", 30]))"
      ]
    },
    {
      "cell_type": "markdown",
      "metadata": {
        "id": "wKeKp4c0DRoh"
      },
      "source": [
        "### Invocando a las funciones desde un bloque try/except"
      ]
    },
    {
      "cell_type": "code",
      "execution_count": 81,
      "metadata": {
        "colab": {
          "base_uri": "https://localhost:8080/"
        },
        "id": "offYb1phBiB0",
        "outputId": "2c0fbf12-f22c-4b4b-873e-02e9dd735509"
      },
      "outputs": [
        {
          "name": "stdout",
          "output_type": "stream",
          "text": [
            "Debe contener solo números\n"
          ]
        }
      ],
      "source": [
        "try:\n",
        "  print(promedio([10, 20, 30]))\n",
        "  # print(promedio([]))\n",
        "  # print(promedio([10, \"a\", 30]))\n",
        "except Exception as e:\n",
        "  print(e)\n"
      ]
    },
    {
      "cell_type": "markdown",
      "metadata": {
        "id": "TMBYXbKPDs_O"
      },
      "source": [
        "## Manejo de excepciones"
      ]
    },
    {
      "cell_type": "markdown",
      "metadata": {
        "id": "aGZJpXlaDvos"
      },
      "source": [
        "* Podemos capturar excepciones para evitar que el programa finalice por un error. Bloque: try... except\n",
        "* Se ejecuta el bloque try. Si no ocurre ninguna excepción, el bloque except se saltea.\n",
        "* Si ocurre una excepción durante la ejecución del bloque try, el resto del bloque se saltea. Si su tipo coincide con la excepción, se ejecuta el bloque except.\n",
        "* Una declaración try puede tener más de un except.\n",
        "* El último except puede omitir el tipo de dato (evitar su uso) se ejecuta ante cualquier error que ocurra en el bloque y no esté gestionado anteriormente.\n",
        "* else: es opcional en un bloque try except. Sólo será ejecutada cuando todas las instrucciones del bloque try se ejecutaron en forma “normal”.\n",
        "* finally: garantiza que un bloque de código siempre se ejecute, sin importar si hubo o no errores.\n"
      ]
    },
    {
      "cell_type": "markdown",
      "metadata": {
        "id": "57uZ-ndIEKHA"
      },
      "source": [
        "## Ejemplos"
      ]
    },
    {
      "cell_type": "markdown",
      "metadata": {
        "id": "GGdEY_4aFKMt"
      },
      "source": [
        "### Ejemplo 1\n",
        "Situación: Intentar abrir un archivo que quizás no exista."
      ]
    },
    {
      "cell_type": "code",
      "execution_count": null,
      "metadata": {
        "id": "GNkjpPDcFSyW"
      },
      "outputs": [],
      "source": [
        "try:\n",
        "    with open(\"datos.txt\", \"r\") as archivo:\n",
        "        contenido = archivo.read()\n",
        "        print(\"Contenido del archivo:\")\n",
        "        print(contenido)\n",
        "except FileNotFoundError:\n",
        "    print(\"Error: el archivo no existe\")\n",
        "except PermissionError:\n",
        "    print(\"Error: no tienes permisos para abrir este archivo\")\n",
        "except Exception as e:\n",
        "    print(\"Error inesperado:\", e)\n"
      ]
    },
    {
      "cell_type": "markdown",
      "metadata": {
        "id": "J66hjXA2FMMM"
      },
      "source": [
        "### Ejemplo 2\n",
        "Situación: Una función bancaria no permite extracciones mayores al saldo disponible."
      ]
    },
    {
      "cell_type": "code",
      "execution_count": 82,
      "metadata": {
        "id": "rl4UN6d-FcgH"
      },
      "outputs": [],
      "source": [
        "# Declaración de la función\n",
        "def retirar_dinero(saldo, monto):\n",
        "    if monto <= 0:\n",
        "        raise ValueError(\"El monto a retirar debe ser positivo\")\n",
        "    if monto > saldo:\n",
        "        raise ValueError(\"Fondos insuficientes\")\n",
        "    return saldo - monto\n"
      ]
    },
    {
      "cell_type": "code",
      "execution_count": 83,
      "metadata": {
        "colab": {
          "base_uri": "https://localhost:8080/"
        },
        "id": "JVl4rIe_Fgxx",
        "outputId": "d547c7c2-76dd-42b1-b4b5-90c8a06430df"
      },
      "outputs": [
        {
          "name": "stdout",
          "output_type": "stream",
          "text": [
            "Operación rechazada: Fondos insuficientes\n"
          ]
        }
      ],
      "source": [
        "# Uso\n",
        "try:\n",
        "    nuevo_saldo = retirar_dinero(1000, 1500)\n",
        "    print(\"Nuevo saldo:\", nuevo_saldo)\n",
        "except ValueError as e:\n",
        "    print(\"Operación rechazada:\", e)"
      ]
    },
    {
      "cell_type": "markdown",
      "metadata": {
        "id": "y1EmQnxUFNiH"
      },
      "source": [
        "### Ejemplo 3\n",
        "Situación: Testear que una función calcule correctamente el factorial."
      ]
    },
    {
      "cell_type": "code",
      "execution_count": 88,
      "metadata": {
        "id": "GCubB5WUELu1"
      },
      "outputs": [],
      "source": [
        "def factorial(n):\n",
        "    assert isinstance(n, int), \"n debe ser un número entero\"\n",
        "    assert n >= 0, \"n debe ser no negativo\"\n",
        "    return 1 if n == 0 else n * factorial(n - 1)"
      ]
    },
    {
      "cell_type": "code",
      "execution_count": null,
      "metadata": {
        "id": "dDkHiEe7FsA1"
      },
      "outputs": [],
      "source": [
        "# Pruebas rápidas en desarrollo\n",
        "assert factorial(0) == 1\n",
        "assert factorial(5) == 120\n",
        "assert factorial(3) == 6\n",
        "assert factorial(-1) == 6\n",
        "print(\"Todos los tests pasaron!\")"
      ]
    },
    {
      "cell_type": "markdown",
      "metadata": {
        "id": "TAQLBK-XICt4"
      },
      "source": [
        "## Ejercicios"
      ]
    },
    {
      "cell_type": "markdown",
      "metadata": {
        "id": "O8Be47EvIEKd"
      },
      "source": [
        "### Ejercicio 1: Validación de ingreso de datos (turnos médicos)\n",
        "Consigna:\n",
        "* Escribir una función ingresar_turno() que pida al usuario un número de turno (entero positivo).\n",
        "\n",
        "* Si el usuario ingresa texto no numérico, debe mostrar \"Error: debe ingresar un número entero\".\n",
        "\n",
        "* Si el número es negativo, debe mostrar \"Error: el turno no puede ser negativo\".\n",
        "\n",
        "* Repetir hasta que el usuario ingrese un valor válido."
      ]
    },
    {
      "cell_type": "code",
      "execution_count": null,
      "metadata": {
        "id": "iOHqVLSIIROR"
      },
      "outputs": [],
      "source": [
        "# Esperado\n",
        "turno = ingresar_turno()\n",
        "print(\"Turno asignado:\", turno)"
      ]
    },
    {
      "cell_type": "markdown",
      "metadata": {
        "id": "91TCsXvdIN3k"
      },
      "source": [
        "### Ejercicio 2: Manejo de índices en listas (control de stock)"
      ]
    },
    {
      "cell_type": "markdown",
      "metadata": {
        "id": "N1XxZHkHIeAW"
      },
      "source": [
        "Dada la lista de productos debajo, Escribir un programa que:\n",
        "\n",
        "* Pida al usuario un número de índice.\n",
        "\n",
        "* Si el índice existe, muestre el producto correspondiente.\n",
        "\n",
        "* Si el índice está fuera de rango, capture el error y muestre \"Índice inválido: producto no encontrado\"."
      ]
    },
    {
      "cell_type": "code",
      "execution_count": null,
      "metadata": {
        "id": "0Ah19FlNIbE2"
      },
      "outputs": [],
      "source": [
        "productos = [\"guantes\", \"barbijos\", \"alcohol en gel\", \"jeringas\"]"
      ]
    },
    {
      "cell_type": "code",
      "execution_count": null,
      "metadata": {
        "id": "vAEuyNaoIj_c"
      },
      "outputs": [],
      "source": [
        "# Esperado\n",
        "# Ingrese índice: 2 → Producto: alcohol en gel\n",
        "# Ingrese índice: 10 → Índice inválido: producto no encontrado"
      ]
    },
    {
      "cell_type": "markdown",
      "metadata": {
        "id": "L2dPp54SIswF"
      },
      "source": [
        "### Ejercicio 3: Acceso a un diccionario (precios de insumos médicos)\n",
        "\n"
      ]
    },
    {
      "cell_type": "markdown",
      "metadata": {
        "id": "HrLij9EWI0fM"
      },
      "source": [
        "Escribir un programa que:\n",
        "\n",
        "* Pida al usuario un producto.\n",
        "\n",
        "* Si el producto existe, muestre su precio.\n",
        "\n",
        "* Si no existe, capture la excepción y muestre \"Producto no registrado en el sistema\"."
      ]
    },
    {
      "cell_type": "code",
      "execution_count": null,
      "metadata": {
        "id": "UTOip7UwIw5v"
      },
      "outputs": [],
      "source": [
        "precios = {\"guantes\": 120, \"barbijos\": 80, \"alcohol en gel\": 200}"
      ]
    }
  ],
  "metadata": {
    "colab": {
      "provenance": [],
      "toc_visible": true
    },
    "kernelspec": {
      "display_name": "Python 3",
      "name": "python3"
    },
    "language_info": {
      "name": "python"
    }
  },
  "nbformat": 4,
  "nbformat_minor": 0
}

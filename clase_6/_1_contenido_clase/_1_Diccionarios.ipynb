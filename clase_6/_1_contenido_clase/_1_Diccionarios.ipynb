{
  "cells": [
    {
      "cell_type": "markdown",
      "metadata": {},
      "source": [
        "# Diccionarios"
      ]
    },
    {
      "cell_type": "markdown",
      "metadata": {
        "id": "9CcwbUPmG8FW"
      },
      "source": [
        "## Contenido de clase"
      ]
    },
    {
      "cell_type": "markdown",
      "metadata": {
        "id": "fM0JoI3XHAdp"
      },
      "source": [
        "* Características\n",
        "* Acceso a elementos, claves y valores\n",
        "* Funciones\n",
        "* Métodos\n",
        "* Matrices y diccionarios\n"
      ]
    },
    {
      "cell_type": "markdown",
      "metadata": {
        "id": "ZsvItVGTH2Xn"
      },
      "source": [
        "## Características"
      ]
    },
    {
      "cell_type": "markdown",
      "metadata": {
        "id": "SLnqaJCxH40S"
      },
      "source": [
        "Un Diccionario es una estructura de datos y un tipo de dato en Python con características\n",
        "especiales que nos permite almacenar cualquier tipo de valor como enteros, cadenas, listas\n",
        "e incluso otras funciones.\n",
        " Estos diccionarios nos permiten además identificar cada elemento por una clave (Key)"
      ]
    },
    {
      "cell_type": "code",
      "execution_count": 2,
      "metadata": {
        "colab": {
          "base_uri": "https://localhost:8080/"
        },
        "id": "gQ-RvpNWH7Le",
        "outputId": "beeec2aa-eeb7-438b-aa6f-4fe21044df27"
      },
      "outputs": [
        {
          "name": "stdout",
          "output_type": "stream",
          "text": [
            "{'nombre': 'Carlos', 'edad': 19, 'materias': ['Programación I', 'Sistemas de información I']}\n"
          ]
        }
      ],
      "source": [
        "estudiante = {\n",
        "  'nombre': 'Carlos',\n",
        "  'edad': 19,\n",
        "  'materias': ['Programación I', 'Sistemas de información I']\n",
        "}\n",
        "print(estudiante)"
      ]
    },
    {
      "cell_type": "markdown",
      "metadata": {
        "id": "YAcSdZPgIage"
      },
      "source": [
        " * Para definir un diccionario, se encierra el listado de valores entre llaves { }.\n",
        " * Las parejas de clave y valor se separan con comas. La clave y el valor se separan con dos puntos."
      ]
    },
    {
      "cell_type": "markdown",
      "metadata": {
        "id": "4jWsw8KoIfmm"
      },
      "source": [
        "* Son estructuras de datos para relacionar Clave-Valor.\n",
        "* También se los conoce como arreglos asociativos o tablas de Hash.\n",
        "* No son secuencias, por lo tanto no están ordenados.\n",
        "* No se puede utilizar índice para acceder a elementos.\n",
        "* Las rebanadas no son aplicables a los diccionarios (carecen de orden interno).\n",
        "* Los elementos se acceden mediante la clave.\n",
        "* Cada elemento de un diccionario se representa mediante una dupla clave-valor.\n",
        "* Las claves no pueden repetirse, deben ser únicas. Los valores pueden repetirse.\n",
        "* Los valores son heterogéneos (pudiendo ser otros diccionarios).\n",
        "* Son mutables (se pueden modificar los valores de los elementos).\n",
        "* Las claves deben pertenecer a un tipo inmutable (números, cadenas, tuplas), sus valores\n",
        "asociados pueden ser de cualquier tipo (incluso listas u otro diccionario)."
      ]
    },
    {
      "cell_type": "code",
      "execution_count": null,
      "metadata": {
        "colab": {
          "base_uri": "https://localhost:8080/"
        },
        "id": "f49f70mpLV02",
        "outputId": "ecce0310-69ad-4a10-d7f7-79c4ce59851a"
      },
      "outputs": [],
      "source": [
        "%whos"
      ]
    },
    {
      "cell_type": "markdown",
      "metadata": {
        "id": "KDaD5UuXNVq7"
      },
      "source": [
        "## Acceso a elementos"
      ]
    },
    {
      "cell_type": "code",
      "execution_count": 3,
      "metadata": {
        "colab": {
          "base_uri": "https://localhost:8080/"
        },
        "id": "PRjGe1eYNZ7R",
        "outputId": "5ceaeed2-749a-4b7e-e928-8c4cae2415e9"
      },
      "outputs": [
        {
          "name": "stdout",
          "output_type": "stream",
          "text": [
            "Carlos\n",
            "19\n",
            "['Programación I', 'Sistemas de información I']\n",
            "Programación I\n",
            "Sistemas de información I\n"
          ]
        }
      ],
      "source": [
        "estudiante = {\n",
        "    'nombre': 'Carlos',\n",
        "    'edad': 19,\n",
        "    'materias': ['Programación I', 'Sistemas de información I']\n",
        " }\n",
        "\n",
        "print(estudiante['nombre']) # Carlos\n",
        "print(estudiante['edad']) # 19\n",
        "print(estudiante['materias']) # ['Programación I', 'Sistemas de información I']\n",
        "print(estudiante['materias'][0]) # Programación I\n",
        "print(estudiante['materias'][1]) # Sistemas de información"
      ]
    },
    {
      "cell_type": "markdown",
      "metadata": {
        "id": "tJE-iEE2NyDK"
      },
      "source": [
        "## Acceso a claves y valores"
      ]
    },
    {
      "cell_type": "markdown",
      "metadata": {
        "id": "EnSl-0ovSH96"
      },
      "source": [
        "### keys"
      ]
    },
    {
      "cell_type": "markdown",
      "metadata": {
        "id": "gdxZSgLaN2Q1"
      },
      "source": [
        "* keys(): Retorna una lista de elementos, los cuales serán las claves de nuestro diccionario."
      ]
    },
    {
      "cell_type": "code",
      "execution_count": 4,
      "metadata": {
        "colab": {
          "base_uri": "https://localhost:8080/"
        },
        "id": "ZPX5TvZ2N56X",
        "outputId": "4bc4e617-ad60-4284-8a8d-f6ec536f3ffd"
      },
      "outputs": [
        {
          "name": "stdout",
          "output_type": "stream",
          "text": [
            "['nombre', 'edad', 'materias']\n"
          ]
        }
      ],
      "source": [
        "print(list(estudiante.keys()))"
      ]
    },
    {
      "cell_type": "markdown",
      "metadata": {
        "id": "ITqrNbl3SLka"
      },
      "source": [
        "### values"
      ]
    },
    {
      "cell_type": "markdown",
      "metadata": {
        "id": "PO6VM-W3OTtJ"
      },
      "source": [
        "* values(): Retorna una lista de elementos, que serán los valores de nuestro diccionario."
      ]
    },
    {
      "cell_type": "code",
      "execution_count": 5,
      "metadata": {
        "colab": {
          "base_uri": "https://localhost:8080/"
        },
        "id": "c2vwL4f0OWbo",
        "outputId": "bae95910-3d2f-4f42-975d-029a2525c1c2"
      },
      "outputs": [
        {
          "name": "stdout",
          "output_type": "stream",
          "text": [
            "['Carlos', 19, ['Programación I', 'Sistemas de información I']]\n"
          ]
        }
      ],
      "source": [
        "print(list(estudiante.values()))"
      ]
    },
    {
      "cell_type": "markdown",
      "metadata": {
        "id": "L7FCKoqbSOwV"
      },
      "source": [
        "### items"
      ]
    },
    {
      "cell_type": "markdown",
      "metadata": {
        "id": "yory10eyO2Re"
      },
      "source": [
        "* items(): Devuelve una lista de tuplas, cada tupla se compone de dos elementos: el primero será la clave y el segundo, su valor."
      ]
    },
    {
      "cell_type": "code",
      "execution_count": 6,
      "metadata": {
        "colab": {
          "base_uri": "https://localhost:8080/"
        },
        "id": "kwhtxQHfO4wf",
        "outputId": "5a970511-8324-438d-80ec-e7e9054c8329"
      },
      "outputs": [
        {
          "name": "stdout",
          "output_type": "stream",
          "text": [
            "[('nombre', 'Carlos'), ('edad', 19), ('materias', ['Programación I', 'Sistemas de información I'])]\n"
          ]
        }
      ],
      "source": [
        "print(list(estudiante.items()))"
      ]
    },
    {
      "cell_type": "markdown",
      "metadata": {
        "id": "hPRv_5rsPdC1"
      },
      "source": [
        "## Funciones / eliminar elementos"
      ]
    },
    {
      "cell_type": "markdown",
      "metadata": {
        "id": "B5lY0xWXSSxk"
      },
      "source": [
        "### len"
      ]
    },
    {
      "cell_type": "markdown",
      "metadata": {
        "id": "seViO08sPgQv"
      },
      "source": [
        "`len()`: devuelve el número de pares clave-valor que contiene. Es decir, cuántos elementos hay en el diccionario."
      ]
    },
    {
      "cell_type": "code",
      "execution_count": 7,
      "metadata": {
        "colab": {
          "base_uri": "https://localhost:8080/"
        },
        "id": "qeeZqH5cPkfV",
        "outputId": "3d0533dc-81f7-4ed4-9b16-4657982f102e"
      },
      "outputs": [
        {
          "name": "stdout",
          "output_type": "stream",
          "text": [
            "3\n"
          ]
        }
      ],
      "source": [
        "dic = {'rojo': 'red', 'azul': 'blue', 'verde': 'green'}\n",
        "print(len(dic)) # 3"
      ]
    },
    {
      "cell_type": "markdown",
      "metadata": {
        "id": "jPw_JDLzSUMC"
      },
      "source": [
        "### list"
      ]
    },
    {
      "cell_type": "markdown",
      "metadata": {
        "id": "xK7oJQyFPqMn"
      },
      "source": [
        "`list()`: Convierte un diccionario a una lista, se obtienen todas las claves en una nueva lista."
      ]
    },
    {
      "cell_type": "code",
      "execution_count": 8,
      "metadata": {
        "colab": {
          "base_uri": "https://localhost:8080/"
        },
        "id": "b4Zpztb5Pw1L",
        "outputId": "a98402d0-2ad7-48ed-f4e0-6f316fe3db8d"
      },
      "outputs": [
        {
          "name": "stdout",
          "output_type": "stream",
          "text": [
            "['rojo', 'azul', 'verde']\n",
            "red blue green "
          ]
        }
      ],
      "source": [
        "claves = list(dic)\n",
        "print(claves) # ['rojo', 'azul', 'verde']\n",
        "for clave in claves:\n",
        "  print(dic[clave], end=\" \") # red blue gree"
      ]
    },
    {
      "cell_type": "markdown",
      "metadata": {
        "id": "pPsbCdWaSV7A"
      },
      "source": [
        "### del"
      ]
    },
    {
      "cell_type": "markdown",
      "metadata": {
        "id": "FFcPkih2P00w"
      },
      "source": [
        "`del`: Permite eliminar un elemento:"
      ]
    },
    {
      "cell_type": "code",
      "execution_count": 9,
      "metadata": {
        "id": "gZhWMh0bP4gF"
      },
      "outputs": [
        {
          "name": "stdout",
          "output_type": "stream",
          "text": [
            "{'azul': 'blue', 'verde': 'green'}\n"
          ]
        }
      ],
      "source": [
        "del dic['rojo']\n",
        "print(dic) # {'azul': 'blue', 'verde': 'green'}"
      ]
    },
    {
      "cell_type": "code",
      "execution_count": 10,
      "metadata": {
        "id": "NOouQvWhQApH"
      },
      "outputs": [
        {
          "ename": "KeyError",
          "evalue": "'amarillo'",
          "output_type": "error",
          "traceback": [
            "\u001b[31m---------------------------------------------------------------------------\u001b[39m",
            "\u001b[31mKeyError\u001b[39m                                  Traceback (most recent call last)",
            "\u001b[36mCell\u001b[39m\u001b[36m \u001b[39m\u001b[32mIn[10]\u001b[39m\u001b[32m, line 2\u001b[39m\n\u001b[32m      1\u001b[39m \u001b[38;5;66;03m# Retorna excepción KeyError si no existe la clave\u001b[39;00m\n\u001b[32m----> \u001b[39m\u001b[32m2\u001b[39m \u001b[38;5;28;01mdel\u001b[39;00m \u001b[43mdic\u001b[49m\u001b[43m[\u001b[49m\u001b[33;43m'\u001b[39;49m\u001b[33;43mamarillo\u001b[39;49m\u001b[33;43m'\u001b[39;49m\u001b[43m]\u001b[49m \u001b[38;5;66;03m# KeyError: 'amarillo'\u001b[39;00m\n",
            "\u001b[31mKeyError\u001b[39m: 'amarillo'"
          ]
        }
      ],
      "source": [
        "# Retorna excepción KeyError si no existe la clave\n",
        "del dic['amarillo'] # KeyError: 'amarillo'"
      ]
    },
    {
      "cell_type": "markdown",
      "metadata": {
        "id": "AI0cmArXSYV7"
      },
      "source": [
        "### dict"
      ]
    },
    {
      "cell_type": "markdown",
      "metadata": {
        "id": "LZzRMtQSQQJW"
      },
      "source": [
        "`dict()`: Recibe como parámetro una representación de un diccionario y si es factible, devuelve un diccionario de datos."
      ]
    },
    {
      "cell_type": "code",
      "execution_count": 11,
      "metadata": {
        "colab": {
          "base_uri": "https://localhost:8080/"
        },
        "id": "JagraPnFQSZ1",
        "outputId": "784651b0-b81c-4d57-a476-614758e67477"
      },
      "outputs": [
        {
          "name": "stdout",
          "output_type": "stream",
          "text": [
            "{'nombre': 'Juan', 'apellido': 'Pérez', 'edad': 38}\n"
          ]
        }
      ],
      "source": [
        "dic = dict(nombre='Juan', apellido='Pérez', edad=38)\n",
        "print(dic) # {'nombre': 'Juan', 'apellido': 'Pérez', 'edad': 38}"
      ]
    },
    {
      "cell_type": "markdown",
      "metadata": {
        "id": "tFw8eSO1SahR"
      },
      "source": [
        "### zip"
      ]
    },
    {
      "cell_type": "markdown",
      "metadata": {
        "id": "14WB-XoIQamQ"
      },
      "source": [
        "`zip()`: Recibe como parámetro dos elementos iterables, ya sea una cadena, una lista o una tupla. Ambos parámetros deben tener el mismo número de elementos.\n",
        "<BR>\n",
        "Se devolverá un diccionario relacionando el elemento i-esimo de cada uno de los iterables."
      ]
    },
    {
      "cell_type": "code",
      "execution_count": 12,
      "metadata": {
        "colab": {
          "base_uri": "https://localhost:8080/"
        },
        "id": "CvJwddZfQgK4",
        "outputId": "b3f004fd-c038-4f69-df72-87e2bda5d10f"
      },
      "outputs": [
        {
          "name": "stdout",
          "output_type": "stream",
          "text": [
            "<zip object at 0x000002BC852C2040>\n",
            "{'a': 1, 'b': 2, 'c': 3, 'd': 4}\n"
          ]
        }
      ],
      "source": [
        "dic_zip = zip('abcd',[1,2,3,4])\n",
        "dic = dict(zip('abcd',[1,2,3,4]))\n",
        "print(dic_zip) # Zip object\n",
        "print(dic) # {'a': 1, 'b': 2, 'c': 3, 'd': 4}"
      ]
    },
    {
      "cell_type": "code",
      "execution_count": 14,
      "metadata": {
        "colab": {
          "base_uri": "https://localhost:8080/"
        },
        "id": "KxiM7d6PRBs2",
        "outputId": "d0119b4b-4607-4d8a-8bd2-11b36189b813"
      },
      "outputs": [
        {
          "name": "stdout",
          "output_type": "stream",
          "text": [
            "{'num1': 1, 'num2': 2, 'num3': 3, 'num4': 4}\n"
          ]
        }
      ],
      "source": [
        "dic= dict(zip(['num1', 'num2', 'num3', 'num4'],[1,2,3,4]))\n",
        "print(dic) # {'num1': 1, 'num2': 2, 'num3': 3, 'num4': 4}"
      ]
    },
    {
      "cell_type": "markdown",
      "metadata": {
        "id": "ZNG-CO0_QKk4"
      },
      "source": [
        "## Métodos de diccionarios"
      ]
    },
    {
      "cell_type": "markdown",
      "metadata": {
        "id": "poP45KbHT9Dd"
      },
      "source": [
        "### get"
      ]
    },
    {
      "cell_type": "markdown",
      "metadata": {
        "id": "_VRJJr_7SmtD"
      },
      "source": [
        "### copy"
      ]
    },
    {
      "cell_type": "markdown",
      "metadata": {
        "id": "Wcm1CymBT_rK"
      },
      "source": [
        "`get()`: Recibe como parámetro una clave, devuelve el valor de la clave. Si no lo encuentra,\n",
        "devuelve un objeto none. Además, admite un segundo parámetro que será devuelto si no existe la clave"
      ]
    },
    {
      "cell_type": "code",
      "execution_count": 16,
      "metadata": {
        "colab": {
          "base_uri": "https://localhost:8080/"
        },
        "id": "W7wISe8ZUCUB",
        "outputId": "021bd07f-9d34-4db8-c878-d1235f88cfe8"
      },
      "outputs": [
        {
          "name": "stdout",
          "output_type": "stream",
          "text": [
            "2\n",
            "None\n",
            "No existe.\n"
          ]
        }
      ],
      "source": [
        "dic = {'a' : 1, 'b' : 2, 'c' : 3 , 'd' : 4}\n",
        "valor = dic.get('b')\n",
        "print(valor) # 2\n",
        "print(dic.get('f')) # None\n",
        "print(dic.get('f', 'No existe.')) # No existe."
      ]
    },
    {
      "cell_type": "markdown",
      "metadata": {
        "id": "-uFJn7AGUyww"
      },
      "source": [
        "### setdefault"
      ]
    },
    {
      "cell_type": "markdown",
      "metadata": {
        "id": "ZsGj2aX9U0Ws"
      },
      "source": [
        "`setdefault()`: Funciona de dos formas:"
      ]
    },
    {
      "cell_type": "markdown",
      "metadata": {
        "id": "zzpDD6XHU39V"
      },
      "source": [
        "1. Como el método get()"
      ]
    },
    {
      "cell_type": "code",
      "execution_count": 19,
      "metadata": {
        "id": "cWzIgFPQU73L"
      },
      "outputs": [
        {
          "name": "stdout",
          "output_type": "stream",
          "text": [
            "2\n"
          ]
        }
      ],
      "source": [
        "dic = {'a' : 1, 'b' : 2, 'c' : 3 , 'd' : 4}\n",
        "valor = dic.setdefault('b')\n",
        "print(valor) # 1"
      ]
    },
    {
      "cell_type": "markdown",
      "metadata": {
        "id": "89iG3af0U-p4"
      },
      "source": [
        "2. Para agregar un nuevo elemento a nuestro diccionario:"
      ]
    },
    {
      "cell_type": "code",
      "execution_count": 25,
      "metadata": {
        "id": "S5HFlqECVAyp"
      },
      "outputs": [
        {
          "name": "stdout",
          "output_type": "stream",
          "text": [
            "50\n",
            "{'a': 1, 'b': 2, 'c': 3, 'd': 4, 'e': 5, 'f': 50}\n"
          ]
        }
      ],
      "source": [
        "valor = dic.setdefault('f',55)\n",
        "print(valor) # 5\n",
        "print(dic) # {'a' : 1, 'b' : 2, 'c' : 3 , 'd' : 4 , 'e' : 5}"
      ]
    },
    {
      "cell_type": "markdown",
      "metadata": {
        "id": "zy2HooQCVF12"
      },
      "source": [
        "### update"
      ]
    },
    {
      "cell_type": "markdown",
      "metadata": {
        "id": "h9N21tt1VHYo"
      },
      "source": [
        "`update()`: Recibe como parámetro otro diccionario. Si se tienen claves iguales,\n",
        "actualiza el valor de la clave repetida; si no hay claves iguales, este par clave-valor\n",
        "es agregado al diccionario."
      ]
    },
    {
      "cell_type": "code",
      "execution_count": 26,
      "metadata": {
        "id": "Kj9AcN34VJ_T"
      },
      "outputs": [
        {
          "name": "stdout",
          "output_type": "stream",
          "text": [
            "{'a': 1, 'b': 5, 'c': 6, 'd': 4, 'e': 9, 'f': 10}\n"
          ]
        }
      ],
      "source": [
        "dic1 = {'a' : 1, 'b' : 2, 'c' : 3 , 'd' : 4}\n",
        "dic2 = {'c' : 6, 'b' : 5, 'e' : 9 , 'f' : 10}\n",
        "dic1.update(dic2)\n",
        "print(dic1) # {'a': 1, 'b': 5, 'c': 6, 'd': 4, 'e': 9, 'f': 10}"
      ]
    },
    {
      "cell_type": "markdown",
      "metadata": {
        "id": "nbbSRiakU8iE"
      },
      "source": []
    },
    {
      "cell_type": "markdown",
      "metadata": {
        "id": "Urxx1vgkUHEI"
      },
      "source": [
        "### pop"
      ]
    },
    {
      "cell_type": "markdown",
      "metadata": {
        "id": "3A30uzigUJKj"
      },
      "source": [
        "pop(): Recibe como parámetro una clave, elimina esta y devuelve su valor. Si no lo encuentra, devuelve error."
      ]
    },
    {
      "cell_type": "code",
      "execution_count": 27,
      "metadata": {
        "id": "EyzAKotaULSI"
      },
      "outputs": [
        {
          "name": "stdout",
          "output_type": "stream",
          "text": [
            "2\n",
            "{'a': 1, 'c': 3, 'd': 4}\n"
          ]
        }
      ],
      "source": [
        "dic = {'a' : 1, 'b' : 2, 'c' : 3 , 'd' : 4}\n",
        "valor = dic.pop('b')\n",
        "print(valor) # 2\n",
        "print(dic) # {'a': 1, 'c': 3, 'd': 4}"
      ]
    },
    {
      "cell_type": "code",
      "execution_count": 11,
      "metadata": {
        "id": "a1sDNJg1Uglw"
      },
      "outputs": [
        {
          "ename": "KeyError",
          "evalue": "'e'",
          "output_type": "error",
          "traceback": [
            "\u001b[31m---------------------------------------------------------------------------\u001b[39m",
            "\u001b[31mKeyError\u001b[39m                                  Traceback (most recent call last)",
            "\u001b[36mCell\u001b[39m\u001b[36m \u001b[39m\u001b[32mIn[11]\u001b[39m\u001b[32m, line 1\u001b[39m\n\u001b[32m----> \u001b[39m\u001b[32m1\u001b[39m valor1 = \u001b[43mdic\u001b[49m\u001b[43m.\u001b[49m\u001b[43mpop\u001b[49m\u001b[43m(\u001b[49m\u001b[33;43m'\u001b[39;49m\u001b[33;43me\u001b[39;49m\u001b[33;43m'\u001b[39;49m\u001b[43m)\u001b[49m\n",
            "\u001b[31mKeyError\u001b[39m: 'e'"
          ]
        }
      ],
      "source": [
        "valor1 = dic.pop('e')"
      ]
    },
    {
      "cell_type": "markdown",
      "metadata": {
        "id": "wVj1abhzSpIj"
      },
      "source": [
        "`copy()`:  Retorna una copia del diccionario original."
      ]
    },
    {
      "cell_type": "code",
      "execution_count": 28,
      "metadata": {
        "colab": {
          "base_uri": "https://localhost:8080/"
        },
        "id": "YV0_9XGZSwWZ",
        "outputId": "079ab240-d326-4247-81b9-c1268197610f"
      },
      "outputs": [
        {
          "name": "stdout",
          "output_type": "stream",
          "text": [
            "{'a': 1, 'b': 2, 'c': 3} 3008711216128\n",
            "{'a': 1, 'b': 2, 'c': 3} 3008711216128\n",
            "{'a': 1, 'b': 2, 'c': 3} 3008711375360\n"
          ]
        }
      ],
      "source": [
        "dic = {'a' : 1, 'b' : 2, 'c' : 3}\n",
        "print(dic, id(dic)) # {'a': 1, 'b': 2, 'c': 3} \n",
        "dic1 = dic\n",
        "print(dic1, id(dic1)) # {'a': 1, 'b': 2, 'c': 3} \n",
        "dic2 = dic.copy()\n",
        "print(dic2, id(dic2)) # {'a': 1, 'b': 2, 'c': 3} "
      ]
    },
    {
      "cell_type": "markdown",
      "metadata": {
        "id": "32lJ3UbZTBpP"
      },
      "source": [
        "### fromkeys"
      ]
    },
    {
      "cell_type": "markdown",
      "metadata": {
        "id": "NZCLsAliTD9g"
      },
      "source": [
        "`fromkeys()`:Recibe como parámetros un iterable y un valor, devolviendo un  diccionario que contiene como claves los elementos del iterable con el mismo valor ingresado. Si el valor no es ingresado, devolverá none para todas las claves"
      ]
    },
    {
      "cell_type": "code",
      "execution_count": 29,
      "metadata": {
        "colab": {
          "base_uri": "https://localhost:8080/"
        },
        "id": "WTAYDBwjTI8e",
        "outputId": "c2f7b545-d561-42f5-b590-f68c2f1c25a2"
      },
      "outputs": [
        {
          "name": "stdout",
          "output_type": "stream",
          "text": [
            "{'a': 5, 'b': 5, 'c': 5, 'd': 5}\n"
          ]
        }
      ],
      "source": [
        "dic = dict.fromkeys(['a','b','c','d'],5)\n",
        "print(dic) # {'a': 1, 'b': 1, 'c': 1, 'd': 1}"
      ]
    },
    {
      "cell_type": "markdown",
      "metadata": {
        "id": "WLUj-Yu2VN_G"
      },
      "source": [
        "## Matrices y diccionarios"
      ]
    },
    {
      "cell_type": "markdown",
      "metadata": {
        "id": "8dxmtb_QVSnk"
      },
      "source": [
        "* Una matriz puede ser representada como una lista de diccionarios en Python.\n",
        "* Cada fila de la matriz se convierte en un diccionario, donde las claves representan\n",
        "los campos y los valores son los datos correspondientes.\n",
        "* Consideremos la siguiente matriz y sus encabezados:"
      ]
    },
    {
      "cell_type": "code",
      "execution_count": 30,
      "metadata": {
        "id": "pShiozW4VZFo"
      },
      "outputs": [],
      "source": [
        "matriz = [\n",
        "  [1, 'Producto A', 'Electrónica', 100],\n",
        "  [2, 'Producto B', 'Hogar', 50],\n",
        "  [4, 'Producto D', 'Juguetes', 25],\n",
        "  [3, 'Producto C', 'Ropa', 30],\n",
        "]\n",
        "encabezados = ['ID', 'Nombre', 'Categoría', 'Precio']"
      ]
    },
    {
      "cell_type": "markdown",
      "metadata": {
        "id": "mV14WHwpWDk2"
      },
      "source": [
        "Una forma de convertir la matriz en un diccionario es a través de listas por comprensióny la función zip():"
      ]
    },
    {
      "cell_type": "code",
      "execution_count": 31,
      "metadata": {
        "colab": {
          "base_uri": "https://localhost:8080/"
        },
        "id": "fFOlHd4oWEtm",
        "outputId": "298397e1-66f8-4371-e163-9ac8a930b1d3"
      },
      "outputs": [
        {
          "name": "stdout",
          "output_type": "stream",
          "text": [
            "[{'ID': 1, 'Nombre': 'Producto A', 'Categoría': 'Electrónica', 'Precio': 100}, {'ID': 2, 'Nombre': 'Producto B', 'Categoría': 'Hogar', 'Precio': 50}, {'ID': 4, 'Nombre': 'Producto D', 'Categoría': 'Juguetes', 'Precio': 25}, {'ID': 3, 'Nombre': 'Producto C', 'Categoría': 'Ropa', 'Precio': 30}]\n",
            "{'ID': 1, 'Nombre': 'Producto A', 'Categoría': 'Electrónica', 'Precio': 100}\n",
            "{'ID': 2, 'Nombre': 'Producto B', 'Categoría': 'Hogar', 'Precio': 50}\n",
            "{'ID': 4, 'Nombre': 'Producto D', 'Categoría': 'Juguetes', 'Precio': 25}\n",
            "{'ID': 3, 'Nombre': 'Producto C', 'Categoría': 'Ropa', 'Precio': 30}\n"
          ]
        }
      ],
      "source": [
        "# Crear la lista de diccionarios\n",
        "productos = [dict(zip(encabezados, fila)) for fila in matriz]\n",
        "print(productos)\n",
        "\n",
        "# Imprimir los resultados\n",
        "for producto in productos:\n",
        "  print(producto)"
      ]
    },
    {
      "cell_type": "code",
      "execution_count": 37,
      "metadata": {},
      "outputs": [
        {
          "name": "stdout",
          "output_type": "stream",
          "text": [
            "{'id': 1, 'nombre': 'Ariel', 'apellido': 'Lopez', 'email': 'alopez@gmail.com'}\n",
            "{'id': 2, 'nombre': 'Ana', 'apellido': 'Hunt', 'email': 'ahunt@gmail.com'}\n",
            "[{'id': 1, 'nombre': 'Ariel', 'apellido': 'Lopez', 'email': 'alopez@gmail.com'}, {'id': 2, 'nombre': 'Ana', 'apellido': 'Hunt', 'email': 'ahunt@gmail.com'}]\n"
          ]
        }
      ],
      "source": [
        "# dic estudiantes\n",
        "estudiante1 = {\n",
        "    \"id\": 1  , \"nombre\": \"Ariel\"  , \"apellido\": \"Lopez\"  , \"email\": \"alopez@gmail.com\" \n",
        "}\n",
        "estudiante2 = {\n",
        "    \"id\": 2  , \"nombre\": \"Ana\"  , \"apellido\": \"Hunt\"  , \"email\": \"ahunt@gmail.com\" \n",
        "}\n",
        "print(estudiante1)\n",
        "print(estudiante2)\n",
        "estudiantes = [estudiante1, estudiante2]\n",
        "print(estudiantes)"
      ]
    },
    {
      "cell_type": "code",
      "execution_count": 44,
      "metadata": {},
      "outputs": [
        {
          "name": "stdout",
          "output_type": "stream",
          "text": [
            " 1: Ariel\n",
            " 2: Ana\n"
          ]
        }
      ],
      "source": [
        "estudiantes = [\n",
        "  [1, 'Ariel', 'Lopez', 23],\n",
        "  [2, 'Ana', 'Hunt', 25]\n",
        "]\n",
        "encabezados = ['ID', 'Nombre', 'Apellido', 'Edad']\n",
        "\n",
        "dic_estudiantes = [dict(zip(encabezados, estudiante))  for estudiante in estudiantes]\n",
        "# print(dic_estudiantes)\n",
        "for estudiante in dic_estudiantes:\n",
        "  print(f\" {estudiante.get(\"ID\")}: {estudiante.get(\"Nombre\")}\")"
      ]
    },
    {
      "cell_type": "code",
      "execution_count": null,
      "metadata": {},
      "outputs": [],
      "source": [
        "dic_estudiantes_sorted = sorted(dic_estudiantes, key=lambda estudiante: estudiante[\"Edad\"])\n"
      ]
    }
  ],
  "metadata": {
    "colab": {
      "provenance": [],
      "toc_visible": true
    },
    "kernelspec": {
      "display_name": "Python 3",
      "name": "python3"
    },
    "language_info": {
      "codemirror_mode": {
        "name": "ipython",
        "version": 3
      },
      "file_extension": ".py",
      "mimetype": "text/x-python",
      "name": "python",
      "nbconvert_exporter": "python",
      "pygments_lexer": "ipython3",
      "version": "3.13.5"
    }
  },
  "nbformat": 4,
  "nbformat_minor": 0
}

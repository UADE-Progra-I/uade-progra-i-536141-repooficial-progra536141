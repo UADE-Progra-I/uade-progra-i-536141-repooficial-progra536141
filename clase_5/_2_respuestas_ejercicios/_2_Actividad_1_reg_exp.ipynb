{
  "cells": [
    {
      "cell_type": "markdown",
      "metadata": {
        "id": "fFoMHC_1w76P"
      },
      "source": [
        "**NO sobrescribir este Notebook, favor de hacer unaa copia a la carpeta \"codigo_estudiantes\".**"
      ]
    },
    {
      "cell_type": "markdown",
      "metadata": {
        "id": "pAwWobhttmZd"
      },
      "source": [
        "# Ejercicio 1\n"
      ]
    },
    {
      "cell_type": "markdown",
      "metadata": {
        "id": "FjRP4DlHt4eh"
      },
      "source": [
        "**Búsqueda simple con search**\n"
      ]
    },
    {
      "cell_type": "code",
      "execution_count": null,
      "metadata": {},
      "outputs": [],
      "source": []
    },
    {
      "cell_type": "markdown",
      "metadata": {
        "id": "Gu0T7WE1tTAT"
      },
      "source": [
        "Dada la cadena:\n",
        "`cadena = \"She sells sea shells by the seashore\"`\n",
        "<BR>\n",
        "Encuentra la primera palabra que empiece con \"se\" (ignora mayúsculas y minúsculas) y muestra su posición inicial y final."
      ]
    },
    {
      "cell_type": "code",
      "execution_count": 15,
      "metadata": {
        "colab": {
          "base_uri": "https://localhost:8080/"
        },
        "id": "vh1pI8cguIkq",
        "outputId": "211b64ba-ffb2-4ae4-932d-a3c5a663dc58"
      },
      "outputs": [
        {
          "name": "stdout",
          "output_type": "stream",
          "text": [
            "<re.Match object; span=(4, 9), match='sells'>\n"
          ]
        }
      ],
      "source": [
        "import re\n",
        "\n",
        "cadena = \"She sells sea shells by the seashore\"\n",
        "resultado = re.search(r'\\bse\\w+', cadena, re.IGNORECASE)\n",
        "print(resultado)"
      ]
    },
    {
      "cell_type": "markdown",
      "metadata": {
        "id": "B6PpSnPttzXf"
      },
      "source": [
        "# Ejercicio 2"
      ]
    },
    {
      "cell_type": "markdown",
      "metadata": {
        "id": "e_HIrn5_tauQ"
      },
      "source": [
        "**Uso de findall**"
      ]
    },
    {
      "cell_type": "markdown",
      "metadata": {
        "id": "l1QPvmfzuG3M"
      },
      "source": [
        "Con la misma cadena, encuentra todas las ocurrencias de \"sh\" y muéstralas en una lista."
      ]
    },
    {
      "cell_type": "code",
      "execution_count": 19,
      "metadata": {
        "colab": {
          "base_uri": "https://localhost:8080/"
        },
        "id": "AYqau5AyucCb",
        "outputId": "a3612de1-df5a-4556-ad1f-c4bcb2c4accf"
      },
      "outputs": [
        {
          "name": "stdout",
          "output_type": "stream",
          "text": [
            "['She', 'shells']\n",
            "['She', 'shells']\n"
          ]
        }
      ],
      "source": [
        "cadena = \"She sells sea shells by the seashore\"\n",
        "resultado = [word for word in cadena.split() if re.search('^sh', word, re.IGNORECASE)]\n",
        "print(resultado)\n",
        "\n",
        "resultado = re.findall(r\"\\bsh\\w*\", cadena, re.IGNORECASE)\n",
        "print(resultado)"
      ]
    },
    {
      "cell_type": "markdown",
      "metadata": {
        "id": "0It813-Xue9l"
      },
      "source": [
        "# Ejercicio 3"
      ]
    },
    {
      "cell_type": "markdown",
      "metadata": {
        "id": "w2iaOeHNuhXs"
      },
      "source": [
        "**Metacaracteres . y ^**"
      ]
    },
    {
      "cell_type": "markdown",
      "metadata": {
        "id": "3HO9xJmNuHi6"
      },
      "source": [
        "Usa la cadena:\n",
        "<BR>\n",
        "`cadena = \"Peter Piper picked a peck of pickled peppers\"`\n",
        "<BR>\n",
        "1. Encuentra todas las palabras que empiecen con \"pi\".\n",
        "2. Encuentra todas las palabras que terminen en \"ed\".\n"
      ]
    },
    {
      "cell_type": "code",
      "execution_count": 23,
      "metadata": {
        "colab": {
          "base_uri": "https://localhost:8080/"
        },
        "id": "b-gixSioutAy",
        "outputId": "029eb93a-f032-430f-b69b-9e5df7be659b"
      },
      "outputs": [
        {
          "name": "stdout",
          "output_type": "stream",
          "text": [
            "['Piper', 'picked', 'pickled']\n",
            "['Piper', 'picked', 'pickled']\n"
          ]
        }
      ],
      "source": [
        "cadena = \"Peter Piper picked a peck of pickled peppers\"\n",
        "\n",
        "resultado = [word for word in cadena.split() if re.search(r'^pi\\w+', word, re.IGNORECASE)]\n",
        "print(resultado)\n",
        "\n",
        "resultado = re.findall(r\"\\bpi\\w*\", cadena, re.IGNORECASE)\n",
        "print(resultado)\n"
      ]
    },
    {
      "cell_type": "code",
      "execution_count": 24,
      "metadata": {
        "colab": {
          "base_uri": "https://localhost:8080/"
        },
        "id": "7TRUKg3R3Sc-",
        "outputId": "226bac46-717b-40a6-999c-21322d5a2dc5"
      },
      "outputs": [
        {
          "name": "stdout",
          "output_type": "stream",
          "text": [
            "['picked', 'pickled']\n",
            "['picked', 'pickled']\n"
          ]
        }
      ],
      "source": [
        "resultado = [word for word in cadena.split() if re.search('^pi.*ed$', word, re.IGNORECASE)]\n",
        "print(resultado)\n",
        "\n",
        "resultado = re.findall(r\"\\w*ed\\b\", cadena, re.IGNORECASE)\n",
        "print(resultado)"
      ]
    },
    {
      "cell_type": "markdown",
      "metadata": {
        "id": "rETrDp5BuwfM"
      },
      "source": [
        "# Ejercicio 4"
      ]
    },
    {
      "cell_type": "markdown",
      "metadata": {
        "id": "o5QpCsLGuz5i"
      },
      "source": [
        "**Caracteres especiales escapados**"
      ]
    },
    {
      "cell_type": "markdown",
      "metadata": {
        "id": "lByRDXSLu2d1"
      },
      "source": [
        "Dada la cadena:\n",
        "<BR>\n",
        "`cadena = \"El precio del producto es $59.99\"`\n",
        "<BR>\n",
        "1. Encuentra el valor que aparece después del símbolo $.\n",
        "2. Busca el separador decimal \".\" de manera literal."
      ]
    },
    {
      "cell_type": "code",
      "execution_count": 27,
      "metadata": {
        "colab": {
          "base_uri": "https://localhost:8080/"
        },
        "id": "n_uHrWAixFxD",
        "outputId": "507a4ffa-fce1-42c8-8ad0-dce01e947062"
      },
      "outputs": [
        {
          "name": "stdout",
          "output_type": "stream",
          "text": [
            "<re.Match object; span=(26, 29), match='$59'>\n"
          ]
        }
      ],
      "source": [
        "cadena = \"El precio del producto es $59.99\"\n",
        "\n",
        "solucion = re.search(r'\\$(\\d+)', cadena)\n",
        "print(solucion)"
      ]
    },
    {
      "cell_type": "code",
      "execution_count": 32,
      "metadata": {
        "colab": {
          "base_uri": "https://localhost:8080/"
        },
        "id": "megli7Tt4GB9",
        "outputId": "2cbc40e6-875a-48f3-8441-b73ce1b2f42e"
      },
      "outputs": [
        {
          "name": "stdout",
          "output_type": "stream",
          "text": [
            "<re.Match object; span=(27, 32), match='59.99'>\n"
          ]
        }
      ],
      "source": [
        "solucion = re.search(r'\\d+\\.\\d+', cadena)\n",
        "print(solucion)"
      ]
    },
    {
      "cell_type": "markdown",
      "metadata": {
        "id": "6bpm1BZWu8hf"
      },
      "source": [
        "# Ejercicio 5"
      ]
    },
    {
      "cell_type": "markdown",
      "metadata": {
        "id": "WGO2Y-Jju_NS"
      },
      "source": [
        "**Conjuntos de caracteres []**"
      ]
    },
    {
      "cell_type": "markdown",
      "metadata": {
        "id": "j607q2pOvAwr"
      },
      "source": [
        "Dada la cadena:\n",
        "<BR>\n",
        "`text = \"En un rato llega el pato a la granja de Tato\"`\n",
        "<BR>\n",
        "Encuentra todas las palabras que terminen en \"ato\" y que empiecen con r, p o t."
      ]
    },
    {
      "cell_type": "code",
      "execution_count": 40,
      "metadata": {
        "colab": {
          "base_uri": "https://localhost:8080/"
        },
        "id": "-aHo9FhcxGiB",
        "outputId": "08f853e6-5303-4f5d-9f3a-bdc0b0b9786c"
      },
      "outputs": [
        {
          "name": "stdout",
          "output_type": "stream",
          "text": [
            "['rato', 'pato']\n"
          ]
        }
      ],
      "source": [
        "text = \"En un rato llega el pato a la granja de Tato\"\n",
        "\n",
        "resultado = re.findall(r'\\b[rpto]ato\\b', text)\n",
        "print(resultado)"
      ]
    },
    {
      "cell_type": "markdown",
      "metadata": {
        "id": "2q5UPLGavGG9"
      },
      "source": [
        "# Ejercicio 6"
      ]
    },
    {
      "cell_type": "markdown",
      "metadata": {
        "id": "YK6E3U2ivHim"
      },
      "source": [
        "**Rangos y negaciones**"
      ]
    },
    {
      "cell_type": "markdown",
      "metadata": {
        "id": "kYoMZE1AvJP1"
      },
      "source": [
        "Dada la cadena:\n",
        "<BR>\n",
        "`direccion = \"Av. Corrientes 1234 Piso 5\"`\n",
        "<BR>\n",
        "1. Extrae solo las letras minúsculas [a-z].\n",
        "2. Extrae solo los números [0-9].\n",
        "3. Extrae todos los caracteres que no sean números ([^0-9])."
      ]
    },
    {
      "cell_type": "code",
      "execution_count": 41,
      "metadata": {
        "colab": {
          "base_uri": "https://localhost:8080/"
        },
        "id": "Z3aLiuOzxHOk",
        "outputId": "e983240f-ef17-4ed1-d287-d2384869e23c"
      },
      "outputs": [
        {
          "name": "stdout",
          "output_type": "stream",
          "text": [
            "['v', 'o', 'r', 'r', 'i', 'e', 'n', 't', 'e', 's', 'i', 's', 'o']\n",
            "['1', '2', '3', '4', '5']\n",
            "['A', 'v', '.', ' ', 'C', 'o', 'r', 'r', 'i', 'e', 'n', 't', 'e', 's', ' ', ' ', 'P', 'i', 's', 'o', ' ']\n"
          ]
        }
      ],
      "source": [
        "direccion = \"Av. Corrientes 1234 Piso 5\"\n",
        "solucion1 = re.findall(r'[a-z]', direccion)\n",
        "print(solucion1)\n",
        "\n",
        "solucion2 = re.findall(r'[0-9]', direccion)\n",
        "print(solucion2)\n",
        "\n",
        "solucion3 = re.findall  (r'[^0-9]', direccion)\n",
        "print(solucion3)"
      ]
    },
    {
      "cell_type": "markdown",
      "metadata": {
        "id": "m1zjEWgOvQPQ"
      },
      "source": [
        "# Ejercicio 7"
      ]
    },
    {
      "cell_type": "markdown",
      "metadata": {
        "id": "KMW9NGcOvTj1"
      },
      "source": [
        "**Cuantificadores**"
      ]
    },
    {
      "cell_type": "markdown",
      "metadata": {
        "id": "8Lntme49vVFB"
      },
      "source": [
        "Dada la lista:\n",
        "<BR>\n",
        "`numeros = [\"12\", \"102\", \"1002\", \"10002\", \"1000002\"]`\n",
        "<BR>\n",
        "1. Encuentra con regex los números que tengan exactamente un 0 entre el 1 y el 2.\n",
        "2. Encuentra los que tengan uno o más ceros.\n",
        "3. Encuentra los que tengan cero o más ceros."
      ]
    },
    {
      "cell_type": "code",
      "execution_count": 47,
      "metadata": {
        "colab": {
          "base_uri": "https://localhost:8080/"
        },
        "id": "4jXandvnxH8n",
        "outputId": "880b3b3f-a731-4702-9409-2f337fd8c4fe"
      },
      "outputs": [
        {
          "name": "stdout",
          "output_type": "stream",
          "text": [
            "['102']\n",
            "['102', '1002', '10002', '1000002']\n",
            "['12', '102', '1002', '10002', '1000002']\n"
          ]
        }
      ],
      "source": [
        "numeros = [\"12\", \"102\", \"1002\", \"10002\", \"1000002\"]\n",
        "solucion1 = [num for num in numeros if re.search(r'102', num)]\n",
        "print(solucion1)\n",
        "\n",
        "solucion2 = [num for num in numeros if re.search(r'10+2', num)]\n",
        "print(solucion2)\n",
        "\n",
        "solucion3 = [num for num in numeros if re.search(r'10*2', num)]\n",
        "print(solucion3)"
      ]
    },
    {
      "cell_type": "markdown",
      "metadata": {
        "id": "OXHU9BnNvdHl"
      },
      "source": [
        "# Ejercicio 8"
      ]
    },
    {
      "cell_type": "markdown",
      "metadata": {
        "id": "dhkGW3nMvfzf"
      },
      "source": [
        "**Grupos de captura**"
      ]
    },
    {
      "cell_type": "markdown",
      "metadata": {
        "id": "MLMatJQ5vhng"
      },
      "source": [
        "Dada la cadena:\n",
        "<BR>\n",
        "`text = \"Juan: 11-15-3456-7890, María: 11-15-6543-2109\"`\n",
        "<BR>\n",
        "Crea un patrón que extraiga cada número de celular en tres grupos:\n",
        "1. código de área (11)\n",
        "2. prefijo (15-xxxx)\n",
        "3. número final (xxxx)\n",
        "\n",
        "Imprime cada número completo y sus partes."
      ]
    },
    {
      "cell_type": "code",
      "execution_count": 51,
      "metadata": {
        "colab": {
          "base_uri": "https://localhost:8080/"
        },
        "id": "XALUo-EcxIla",
        "outputId": "bfc173e4-be6b-47ea-ee8c-7fb253cf2e5e"
      },
      "outputs": [
        {
          "name": "stdout",
          "output_type": "stream",
          "text": [
            "Número completo: 11-15-3456-7890\n",
            "Código de área: 11\n",
            "Prefijo: 15-3456\n",
            "Número final: 7890\n",
            "\n",
            "Número completo: 11-15-6543-2109\n",
            "Código de área: 11\n",
            "Prefijo: 15-6543\n",
            "Número final: 2109\n",
            "\n"
          ]
        }
      ],
      "source": [
        "text = \"Juan: 11-15-3456-7890, María: 11-15-6543-2109\"\n",
        "patron = \"(1{2})-(15-[0-9]{4})-([0-9]{4})\"\n",
        "solucion = re.findall(patron, text)\n",
        "for celular in solucion:\n",
        "    print(f\"Número completo: {celular[0]}-{celular[1]}-{celular[2]}\")\n",
        "    print(f\"Código de área: {celular[0]}\")\n",
        "    print(f\"Prefijo: {celular[1]}\")\n",
        "    print(f\"Número final: {celular[2]}\")\n",
        "    print()"
      ]
    },
    {
      "cell_type": "markdown",
      "metadata": {
        "id": "MQ5XSQU0vot9"
      },
      "source": [
        "# Ejercicio 9"
      ]
    },
    {
      "cell_type": "markdown",
      "metadata": {
        "id": "DK51g_45vrf3"
      },
      "source": [
        "**Sustitución con sub**"
      ]
    },
    {
      "cell_type": "markdown",
      "metadata": {
        "id": "_i6mZsUWvtQe"
      },
      "source": [
        "Dada la cadena:\n",
        "<BR>\n",
        "`text = \"El número de Pedro es 123-456-7890 y el de Ana es 987-654-3210\"`\n",
        "\n",
        "1. Reemplaza todos los números de teléfono por \"XXX-XXX-XXXX\".\n",
        "2. Reemplaza \"Pedro\" por \"Juan\"."
      ]
    },
    {
      "cell_type": "code",
      "execution_count": 52,
      "metadata": {
        "colab": {
          "base_uri": "https://localhost:8080/"
        },
        "id": "OzAnOqxtxJGV",
        "outputId": "d95ed201-fb5c-4b5e-e433-2018adaff33f"
      },
      "outputs": [
        {
          "name": "stdout",
          "output_type": "stream",
          "text": [
            "Texto original:\n",
            "El número de Pedro es 123-456-7890 y el de Ana es 987-654-3210\n",
            "\n",
            "Texto modificado:\n",
            "El número de Juan es XXX-XXX-XXXX y el de Ana es XXX-XXX-XXXX\n"
          ]
        }
      ],
      "source": [
        "text = \"El número de Pedro es 123-456-7890 y el de Ana es 987-654-3210\"\n",
        "\n",
        "# 1. Reemplazar todos los teléfonos\n",
        "patron_telefonos = r\"[0-9]{3}-[0-9]{3}-[0-9]{4}\"\n",
        "text_enmascarado = re.sub(patron_telefonos, \"XXX-XXX-XXXX\", text)\n",
        "\n",
        "# 2. Reemplazar \"Pedro\" por \"Juan\"\n",
        "text_final = re.sub(r\"Pedro\", \"Juan\", text_enmascarado)\n",
        "\n",
        "print(\"Texto original:\")\n",
        "print(text)\n",
        "print(\"\\nTexto modificado:\")\n",
        "print(text_final)"
      ]
    },
    {
      "cell_type": "markdown",
      "metadata": {
        "id": "IYEuir74v2vK"
      },
      "source": [
        "# Ejercicio 10"
      ]
    },
    {
      "cell_type": "markdown",
      "metadata": {
        "id": "TJDvhoQcv6wK"
      },
      "source": [
        "**compile y reutilización de patrones**"
      ]
    },
    {
      "cell_type": "markdown",
      "metadata": {
        "id": "cdJo2Z84v9Uq"
      },
      "source": [
        "Dada la cadena:\n",
        "<BR>\n",
        "`cadena = \"07/08/2017 | 03/02/1984 | 17/03/1984\"`\n",
        "<BR>\n",
        "1. Usa re.compile para definir un patrón que encuentre años de 4 dígitos.\n",
        "2. Obtén todas las coincidencias con findall().\n",
        "3. Reemplaza los años por \"XXXX\"."
      ]
    },
    {
      "cell_type": "code",
      "execution_count": 53,
      "metadata": {
        "colab": {
          "base_uri": "https://localhost:8080/"
        },
        "id": "-vygvhwLxJlY",
        "outputId": "0913063d-c147-4d45-d5d7-3ff685bd1ef7"
      },
      "outputs": [
        {
          "name": "stdout",
          "output_type": "stream",
          "text": [
            "Coincidencias encontradas: ['2017', '1984', '1984']\n",
            "Año: 2017 en posición (6, 10)\n",
            "Año: 1984 en posición (19, 23)\n",
            "Año: 1984 en posición (32, 36)\n"
          ]
        }
      ],
      "source": [
        "cadena = \"07/08/2017 | 03/02/1984 | 17/03/1984\"\n",
        "\n",
        "# Compilamos el patrón para años de 4 dígitos\n",
        "patron = re.compile(r\"\\d{4}\")\n",
        "\n",
        "# 1. Obtener todas las coincidencias con findall()\n",
        "coincidencias = patron.findall(cadena)\n",
        "print(\"Coincidencias encontradas:\", coincidencias)\n",
        "\n",
        "# 2. (Opcional) Usar finditer para ver posición y valor\n",
        "for match in patron.finditer(cadena):\n",
        "    print(f\"Año: {match.group()} en posición {match.span()}\")\n"
      ]
    }
  ],
  "metadata": {
    "colab": {
      "provenance": []
    },
    "kernelspec": {
      "display_name": "Python 3",
      "name": "python3"
    },
    "language_info": {
      "name": "python",
      "version": "3.12.7"
    }
  },
  "nbformat": 4,
  "nbformat_minor": 0
}

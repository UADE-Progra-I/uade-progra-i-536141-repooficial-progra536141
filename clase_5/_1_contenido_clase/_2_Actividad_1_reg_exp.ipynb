{
  "cells": [
    {
      "cell_type": "markdown",
      "metadata": {
        "id": "fFoMHC_1w76P"
      },
      "source": [
        "**NO sobrescribir este Notebook, favor de hacer unaa copia a la carpeta \"codigo_estudiantes\".**"
      ]
    },
    {
      "cell_type": "markdown",
      "metadata": {
        "id": "pAwWobhttmZd"
      },
      "source": [
        "# Ejercicio 1\n"
      ]
    },
    {
      "cell_type": "markdown",
      "metadata": {
        "id": "FjRP4DlHt4eh"
      },
      "source": [
        "**Búsqueda simple con search**\n"
      ]
    },
    {
      "cell_type": "markdown",
      "metadata": {
        "id": "Gu0T7WE1tTAT"
      },
      "source": [
        "Dada la cadena:\n",
        "`cadena = \"She sells sea shells by the seashore\"`\n",
        "<BR>\n",
        "Encuentra la primera palabra que empiece con \"se\" (ignora mayúsculas y minúsculas) y muestra su posición inicial y final."
      ]
    },
    {
      "cell_type": "code",
      "execution_count": null,
      "metadata": {
        "id": "vh1pI8cguIkq"
      },
      "outputs": [],
      "source": [
        "# Tu código aquí"
      ]
    },
    {
      "cell_type": "markdown",
      "metadata": {
        "id": "B6PpSnPttzXf"
      },
      "source": [
        "# Ejercicio 2"
      ]
    },
    {
      "cell_type": "markdown",
      "metadata": {
        "id": "e_HIrn5_tauQ"
      },
      "source": [
        "**Uso de findall**"
      ]
    },
    {
      "cell_type": "markdown",
      "metadata": {
        "id": "l1QPvmfzuG3M"
      },
      "source": [
        "Con la misma cadena, encuentra todas las ocurrencias de \"sh\" y muéstralas en una lista."
      ]
    },
    {
      "cell_type": "code",
      "execution_count": null,
      "metadata": {
        "id": "AYqau5AyucCb"
      },
      "outputs": [],
      "source": [
        "# Tu código aquí"
      ]
    },
    {
      "cell_type": "markdown",
      "metadata": {
        "id": "0It813-Xue9l"
      },
      "source": [
        "# Ejercicio 3"
      ]
    },
    {
      "cell_type": "markdown",
      "metadata": {
        "id": "w2iaOeHNuhXs"
      },
      "source": [
        "**Metacaracteres . y ^**"
      ]
    },
    {
      "cell_type": "markdown",
      "metadata": {
        "id": "3HO9xJmNuHi6"
      },
      "source": [
        "Usa la cadena:\n",
        "<BR>\n",
        "`cadena = \"Peter Piper picked a peck of pickled peppers\"`\n",
        "<BR>\n",
        "1. Encuentra todas las palabras que empiecen con \"pi\".\n",
        "2. Encuentra todas las palabras que terminen en \"ed\".\n"
      ]
    },
    {
      "cell_type": "code",
      "execution_count": null,
      "metadata": {
        "id": "b-gixSioutAy"
      },
      "outputs": [],
      "source": [
        "# Tu código aquí"
      ]
    },
    {
      "cell_type": "markdown",
      "metadata": {
        "id": "rETrDp5BuwfM"
      },
      "source": [
        "# Ejercicio 4"
      ]
    },
    {
      "cell_type": "markdown",
      "metadata": {
        "id": "o5QpCsLGuz5i"
      },
      "source": [
        "**Caracteres especiales escapados**"
      ]
    },
    {
      "cell_type": "markdown",
      "metadata": {
        "id": "lByRDXSLu2d1"
      },
      "source": [
        "Dada la cadena:\n",
        "<BR>\n",
        "`cadena = \"El precio del producto es $59.99\"`\n",
        "<BR>\n",
        "1. Encuentra el valor que aparece después del símbolo $.\n",
        "2. Busca el separador decimal \".\" de manera literal."
      ]
    },
    {
      "cell_type": "code",
      "execution_count": null,
      "metadata": {
        "id": "n_uHrWAixFxD"
      },
      "outputs": [],
      "source": [
        "# Tu código aquí"
      ]
    },
    {
      "cell_type": "markdown",
      "metadata": {
        "id": "6bpm1BZWu8hf"
      },
      "source": [
        "# Ejercicio 5"
      ]
    },
    {
      "cell_type": "markdown",
      "metadata": {
        "id": "WGO2Y-Jju_NS"
      },
      "source": [
        "**Conjuntos de caracteres []**"
      ]
    },
    {
      "cell_type": "markdown",
      "metadata": {
        "id": "j607q2pOvAwr"
      },
      "source": [
        "Dada la cadena:\n",
        "<BR>\n",
        "`text = \"En un rato llega el pato a la granja de Tato\"`\n",
        "<BR>\n",
        "Encuentra todas las palabras que terminen en \"ato\" y que empiecen con r, p o t."
      ]
    },
    {
      "cell_type": "code",
      "execution_count": null,
      "metadata": {
        "id": "-aHo9FhcxGiB"
      },
      "outputs": [],
      "source": [
        "# Tu código aquí"
      ]
    },
    {
      "cell_type": "markdown",
      "metadata": {
        "id": "2q5UPLGavGG9"
      },
      "source": [
        "# Ejercicio 6"
      ]
    },
    {
      "cell_type": "markdown",
      "metadata": {
        "id": "YK6E3U2ivHim"
      },
      "source": [
        "**Rangos y negaciones**"
      ]
    },
    {
      "cell_type": "markdown",
      "metadata": {
        "id": "kYoMZE1AvJP1"
      },
      "source": [
        "Dada la cadena:\n",
        "<BR>\n",
        "`direccion = \"Av. Corrientes 1234 Piso 5\"`\n",
        "<BR>\n",
        "1. Extrae solo las letras minúsculas [a-z].\n",
        "2, Extrae solo los números [0-9].\n",
        "3. Extrae todos los caracteres que no sean números ([^0-9])."
      ]
    },
    {
      "cell_type": "code",
      "execution_count": null,
      "metadata": {
        "id": "Z3aLiuOzxHOk"
      },
      "outputs": [],
      "source": [
        "# Tu código aquí"
      ]
    },
    {
      "cell_type": "markdown",
      "metadata": {
        "id": "m1zjEWgOvQPQ"
      },
      "source": [
        "# Ejercicio 7"
      ]
    },
    {
      "cell_type": "markdown",
      "metadata": {
        "id": "KMW9NGcOvTj1"
      },
      "source": [
        "**Cuantificadores**"
      ]
    },
    {
      "cell_type": "markdown",
      "metadata": {
        "id": "8Lntme49vVFB"
      },
      "source": [
        "Dada la lista:\n",
        "<BR>\n",
        "`numeros = [\"12\", \"102\", \"1002\", \"10002\", \"1000002\"]`\n",
        "<BR>\n",
        "1. Encuentra con regex los números que tengan exactamente un 0 entre el 1 y el 2.\n",
        "2. Encuentra los que tengan uno o más ceros.\n",
        "3. Encuentra los que tengan cero o más ceros."
      ]
    },
    {
      "cell_type": "code",
      "execution_count": null,
      "metadata": {
        "id": "4jXandvnxH8n"
      },
      "outputs": [],
      "source": [
        "# Tu código aquí"
      ]
    },
    {
      "cell_type": "markdown",
      "metadata": {
        "id": "OXHU9BnNvdHl"
      },
      "source": [
        "# Ejercicio 8"
      ]
    },
    {
      "cell_type": "markdown",
      "metadata": {
        "id": "dhkGW3nMvfzf"
      },
      "source": [
        "**Grupos de captura**"
      ]
    },
    {
      "cell_type": "markdown",
      "metadata": {
        "id": "MLMatJQ5vhng"
      },
      "source": [
        "Dada la cadena:\n",
        "<BR>\n",
        "`text = \"Juan: 11-15-3456-7890, María: 11-15-6543-2109\"`\n",
        "<BR>\n",
        "Crea un patrón que extraiga cada número de celular en tres grupos:\n",
        "1. código de área (11)\n",
        "2. prefijo (15-xxxx)\n",
        "3. número final (xxxx)\n",
        "\n",
        "Imprime cada número completo y sus partes."
      ]
    },
    {
      "cell_type": "code",
      "execution_count": null,
      "metadata": {
        "id": "XALUo-EcxIla"
      },
      "outputs": [],
      "source": [
        "# Tu código aquí"
      ]
    },
    {
      "cell_type": "markdown",
      "metadata": {
        "id": "MQ5XSQU0vot9"
      },
      "source": [
        "# Ejercicio 9"
      ]
    },
    {
      "cell_type": "markdown",
      "metadata": {
        "id": "DK51g_45vrf3"
      },
      "source": [
        "**Sustitución con sub**"
      ]
    },
    {
      "cell_type": "markdown",
      "metadata": {
        "id": "_i6mZsUWvtQe"
      },
      "source": [
        "Dada la cadena:\n",
        "<BR>\n",
        "`text = \"El número de Pedro es 123-456-7890 y el de Ana es 987-654-3210\"`\n",
        "\n",
        "1. Reemplaza todos los números de teléfono por \"XXX-XXX-XXXX\".\n",
        "2. Reemplaza \"Pedro\" por \"Juan\"."
      ]
    },
    {
      "cell_type": "code",
      "execution_count": null,
      "metadata": {
        "id": "OzAnOqxtxJGV"
      },
      "outputs": [],
      "source": [
        "# Tu código aquí"
      ]
    },
    {
      "cell_type": "markdown",
      "metadata": {
        "id": "IYEuir74v2vK"
      },
      "source": [
        "# Ejercicio 10"
      ]
    },
    {
      "cell_type": "markdown",
      "metadata": {
        "id": "TJDvhoQcv6wK"
      },
      "source": [
        "**compile y reutilización de patrones**"
      ]
    },
    {
      "cell_type": "markdown",
      "metadata": {
        "id": "cdJo2Z84v9Uq"
      },
      "source": [
        "Dada la cadena:\n",
        "<BR>\n",
        "`cadena = \"07/08/2017 | 03/02/1984 | 17/03/1984\"`\n",
        "<BR>\n",
        "1. Usa re.compile para definir un patrón que encuentre años de 4 dígitos.\n",
        "2. Obtén todas las coincidencias con findall().\n",
        "3. Reemplaza los años por \"XXXX\"."
      ]
    },
    {
      "cell_type": "code",
      "execution_count": null,
      "metadata": {
        "id": "-vygvhwLxJlY"
      },
      "outputs": [],
      "source": [
        "# Tu código aquí"
      ]
    }
  ],
  "metadata": {
    "colab": {
      "provenance": []
    },
    "kernelspec": {
      "display_name": "Python 3",
      "name": "python3"
    },
    "language_info": {
      "name": "python",
      "version": "3.12.7"
    }
  },
  "nbformat": 4,
  "nbformat_minor": 0
}
